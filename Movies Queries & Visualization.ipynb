{
 "cells": [
  {
   "cell_type": "code",
   "execution_count": 1,
   "outputs": [],
   "source": [
    "import numpy as np\n",
    "import pandas as pd\n",
    "import sqlite3\n",
    "import matplotlib.pyplot as plt"
   ],
   "metadata": {
    "collapsed": false,
    "pycharm": {
     "name": "#%%\n"
    }
   }
  },
  {
   "cell_type": "code",
   "execution_count": 4,
   "outputs": [],
   "source": [
    "pd.options.display.max_rows = 50"
   ],
   "metadata": {
    "collapsed": false,
    "pycharm": {
     "name": "#%%\n"
    }
   }
  },
  {
   "cell_type": "code",
   "execution_count": 5,
   "outputs": [],
   "source": [
    "database_path =\"C:/Users/user/Documents/Data Scientist/sqlite-sakila.db\""
   ],
   "metadata": {
    "collapsed": false,
    "pycharm": {
     "name": "#%%\n"
    }
   }
  },
  {
   "cell_type": "code",
   "execution_count": 6,
   "outputs": [],
   "source": [
    "connection = sqlite3.connect(database_path)"
   ],
   "metadata": {
    "collapsed": false,
    "pycharm": {
     "name": "#%%\n"
    }
   }
  },
  {
   "cell_type": "code",
   "execution_count": 7,
   "outputs": [
    {
     "data": {
      "text/plain": "     type           name       tbl_name  rootpage  \\\n0   table          actor          actor         2   \n1   table        country        country         5   \n2   table           city           city         7   \n3   table        address        address        10   \n4   table       language       language        13   \n5   table       category       category        15   \n6   table       customer       customer        19   \n7   table           film           film        24   \n8   table     film_actor     film_actor        28   \n9   table  film_category  film_category        33   \n10  table      film_text      film_text        37   \n11  table      inventory      inventory        39   \n12  table          staff          staff        43   \n13  table          store          store        48   \n14  table        payment        payment        52   \n15  table         rental         rental        56   \n\n                                                  sql  \n0   CREATE TABLE actor (\\n  actor_id numeric NOT N...  \n1   CREATE TABLE country (\\n  country_id SMALLINT ...  \n2   CREATE TABLE city (\\n  city_id int NOT NULL,\\n...  \n3   CREATE TABLE address (\\n  address_id int NOT N...  \n4   CREATE TABLE language (\\n  language_id SMALLIN...  \n5   CREATE TABLE category (\\n  category_id SMALLIN...  \n6   CREATE TABLE customer (\\n  customer_id INT NOT...  \n7   CREATE TABLE film (\\n  film_id int NOT NULL,\\n...  \n8   CREATE TABLE film_actor (\\n  actor_id INT NOT ...  \n9   CREATE TABLE film_category (\\n  film_id INT NO...  \n10  CREATE TABLE film_text (\\n  film_id SMALLINT N...  \n11  CREATE TABLE inventory (\\n  inventory_id INT N...  \n12  CREATE TABLE staff (\\n  staff_id SMALLINT NOT ...  \n13  CREATE TABLE store (\\n  store_id INT NOT NULL,...  \n14  CREATE TABLE payment (\\n  payment_id int NOT N...  \n15  CREATE TABLE rental (\\n  rental_id INT NOT NUL...  ",
      "text/html": "<div>\n<style scoped>\n    .dataframe tbody tr th:only-of-type {\n        vertical-align: middle;\n    }\n\n    .dataframe tbody tr th {\n        vertical-align: top;\n    }\n\n    .dataframe thead th {\n        text-align: right;\n    }\n</style>\n<table border=\"1\" class=\"dataframe\">\n  <thead>\n    <tr style=\"text-align: right;\">\n      <th></th>\n      <th>type</th>\n      <th>name</th>\n      <th>tbl_name</th>\n      <th>rootpage</th>\n      <th>sql</th>\n    </tr>\n  </thead>\n  <tbody>\n    <tr>\n      <th>0</th>\n      <td>table</td>\n      <td>actor</td>\n      <td>actor</td>\n      <td>2</td>\n      <td>CREATE TABLE actor (\\n  actor_id numeric NOT N...</td>\n    </tr>\n    <tr>\n      <th>1</th>\n      <td>table</td>\n      <td>country</td>\n      <td>country</td>\n      <td>5</td>\n      <td>CREATE TABLE country (\\n  country_id SMALLINT ...</td>\n    </tr>\n    <tr>\n      <th>2</th>\n      <td>table</td>\n      <td>city</td>\n      <td>city</td>\n      <td>7</td>\n      <td>CREATE TABLE city (\\n  city_id int NOT NULL,\\n...</td>\n    </tr>\n    <tr>\n      <th>3</th>\n      <td>table</td>\n      <td>address</td>\n      <td>address</td>\n      <td>10</td>\n      <td>CREATE TABLE address (\\n  address_id int NOT N...</td>\n    </tr>\n    <tr>\n      <th>4</th>\n      <td>table</td>\n      <td>language</td>\n      <td>language</td>\n      <td>13</td>\n      <td>CREATE TABLE language (\\n  language_id SMALLIN...</td>\n    </tr>\n    <tr>\n      <th>5</th>\n      <td>table</td>\n      <td>category</td>\n      <td>category</td>\n      <td>15</td>\n      <td>CREATE TABLE category (\\n  category_id SMALLIN...</td>\n    </tr>\n    <tr>\n      <th>6</th>\n      <td>table</td>\n      <td>customer</td>\n      <td>customer</td>\n      <td>19</td>\n      <td>CREATE TABLE customer (\\n  customer_id INT NOT...</td>\n    </tr>\n    <tr>\n      <th>7</th>\n      <td>table</td>\n      <td>film</td>\n      <td>film</td>\n      <td>24</td>\n      <td>CREATE TABLE film (\\n  film_id int NOT NULL,\\n...</td>\n    </tr>\n    <tr>\n      <th>8</th>\n      <td>table</td>\n      <td>film_actor</td>\n      <td>film_actor</td>\n      <td>28</td>\n      <td>CREATE TABLE film_actor (\\n  actor_id INT NOT ...</td>\n    </tr>\n    <tr>\n      <th>9</th>\n      <td>table</td>\n      <td>film_category</td>\n      <td>film_category</td>\n      <td>33</td>\n      <td>CREATE TABLE film_category (\\n  film_id INT NO...</td>\n    </tr>\n    <tr>\n      <th>10</th>\n      <td>table</td>\n      <td>film_text</td>\n      <td>film_text</td>\n      <td>37</td>\n      <td>CREATE TABLE film_text (\\n  film_id SMALLINT N...</td>\n    </tr>\n    <tr>\n      <th>11</th>\n      <td>table</td>\n      <td>inventory</td>\n      <td>inventory</td>\n      <td>39</td>\n      <td>CREATE TABLE inventory (\\n  inventory_id INT N...</td>\n    </tr>\n    <tr>\n      <th>12</th>\n      <td>table</td>\n      <td>staff</td>\n      <td>staff</td>\n      <td>43</td>\n      <td>CREATE TABLE staff (\\n  staff_id SMALLINT NOT ...</td>\n    </tr>\n    <tr>\n      <th>13</th>\n      <td>table</td>\n      <td>store</td>\n      <td>store</td>\n      <td>48</td>\n      <td>CREATE TABLE store (\\n  store_id INT NOT NULL,...</td>\n    </tr>\n    <tr>\n      <th>14</th>\n      <td>table</td>\n      <td>payment</td>\n      <td>payment</td>\n      <td>52</td>\n      <td>CREATE TABLE payment (\\n  payment_id int NOT N...</td>\n    </tr>\n    <tr>\n      <th>15</th>\n      <td>table</td>\n      <td>rental</td>\n      <td>rental</td>\n      <td>56</td>\n      <td>CREATE TABLE rental (\\n  rental_id INT NOT NUL...</td>\n    </tr>\n  </tbody>\n</table>\n</div>"
     },
     "execution_count": 7,
     "metadata": {},
     "output_type": "execute_result"
    }
   ],
   "source": [
    "tables = pd.read_sql(\"\"\"\n",
    "SELECT *\n",
    "FROM sqlite_master\n",
    "WHERE type = 'table';\n",
    "\"\"\", connection)\n",
    "\n",
    "tables"
   ],
   "metadata": {
    "collapsed": false,
    "pycharm": {
     "name": "#%%\n"
    }
   }
  },
  {
   "cell_type": "code",
   "execution_count": 15,
   "outputs": [
    {
     "data": {
      "text/plain": "     actor_id first_name     last_name          last_update\n0           1   PENELOPE       GUINESS  2021-03-06 15:51:59\n1           2       NICK      WAHLBERG  2021-03-06 15:51:59\n2           3         ED         CHASE  2021-03-06 15:51:59\n3           4   JENNIFER         DAVIS  2021-03-06 15:51:59\n4           5     JOHNNY  LOLLOBRIGIDA  2021-03-06 15:51:59\n..        ...        ...           ...                  ...\n195       196       BELA        WALKEN  2021-03-06 15:52:00\n196       197      REESE          WEST  2021-03-06 15:52:00\n197       198       MARY        KEITEL  2021-03-06 15:52:00\n198       199      JULIA       FAWCETT  2021-03-06 15:52:00\n199       200      THORA        TEMPLE  2021-03-06 15:52:00\n\n[200 rows x 4 columns]",
      "text/html": "<div>\n<style scoped>\n    .dataframe tbody tr th:only-of-type {\n        vertical-align: middle;\n    }\n\n    .dataframe tbody tr th {\n        vertical-align: top;\n    }\n\n    .dataframe thead th {\n        text-align: right;\n    }\n</style>\n<table border=\"1\" class=\"dataframe\">\n  <thead>\n    <tr style=\"text-align: right;\">\n      <th></th>\n      <th>actor_id</th>\n      <th>first_name</th>\n      <th>last_name</th>\n      <th>last_update</th>\n    </tr>\n  </thead>\n  <tbody>\n    <tr>\n      <th>0</th>\n      <td>1</td>\n      <td>PENELOPE</td>\n      <td>GUINESS</td>\n      <td>2021-03-06 15:51:59</td>\n    </tr>\n    <tr>\n      <th>1</th>\n      <td>2</td>\n      <td>NICK</td>\n      <td>WAHLBERG</td>\n      <td>2021-03-06 15:51:59</td>\n    </tr>\n    <tr>\n      <th>2</th>\n      <td>3</td>\n      <td>ED</td>\n      <td>CHASE</td>\n      <td>2021-03-06 15:51:59</td>\n    </tr>\n    <tr>\n      <th>3</th>\n      <td>4</td>\n      <td>JENNIFER</td>\n      <td>DAVIS</td>\n      <td>2021-03-06 15:51:59</td>\n    </tr>\n    <tr>\n      <th>4</th>\n      <td>5</td>\n      <td>JOHNNY</td>\n      <td>LOLLOBRIGIDA</td>\n      <td>2021-03-06 15:51:59</td>\n    </tr>\n    <tr>\n      <th>...</th>\n      <td>...</td>\n      <td>...</td>\n      <td>...</td>\n      <td>...</td>\n    </tr>\n    <tr>\n      <th>195</th>\n      <td>196</td>\n      <td>BELA</td>\n      <td>WALKEN</td>\n      <td>2021-03-06 15:52:00</td>\n    </tr>\n    <tr>\n      <th>196</th>\n      <td>197</td>\n      <td>REESE</td>\n      <td>WEST</td>\n      <td>2021-03-06 15:52:00</td>\n    </tr>\n    <tr>\n      <th>197</th>\n      <td>198</td>\n      <td>MARY</td>\n      <td>KEITEL</td>\n      <td>2021-03-06 15:52:00</td>\n    </tr>\n    <tr>\n      <th>198</th>\n      <td>199</td>\n      <td>JULIA</td>\n      <td>FAWCETT</td>\n      <td>2021-03-06 15:52:00</td>\n    </tr>\n    <tr>\n      <th>199</th>\n      <td>200</td>\n      <td>THORA</td>\n      <td>TEMPLE</td>\n      <td>2021-03-06 15:52:00</td>\n    </tr>\n  </tbody>\n</table>\n<p>200 rows × 4 columns</p>\n</div>"
     },
     "execution_count": 15,
     "metadata": {},
     "output_type": "execute_result"
    }
   ],
   "source": [
    "pd.read_sql(\"\"\"\n",
    "\n",
    "SELECT *\n",
    "FROM actor;\n",
    "\"\"\", connection)"
   ],
   "metadata": {
    "collapsed": false,
    "pycharm": {
     "name": "#%%\n"
    }
   }
  },
  {
   "cell_type": "code",
   "execution_count": 16,
   "outputs": [
    {
     "data": {
      "text/plain": "     film_id              title  \\\n0          1   ACADEMY DINOSAUR   \n1          2     ACE GOLDFINGER   \n2          3   ADAPTATION HOLES   \n3          4   AFFAIR PREJUDICE   \n4          5        AFRICAN EGG   \n..       ...                ...   \n995      996     YOUNG LANGUAGE   \n996      997         YOUTH KICK   \n997      998       ZHIVAGO CORE   \n998      999  ZOOLANDER FICTION   \n999     1000          ZORRO ARK   \n\n                                           description release_year  \\\n0    A Epic Drama of a Feminist And a Mad Scientist...         2006   \n1    A Astounding Epistle of a Database Administrat...         2006   \n2    A Astounding Reflection of a Lumberjack And a ...         2006   \n3    A Fanciful Documentary of a Frisbee And a Lumb...         2006   \n4    A Fast-Paced Documentary of a Pastry Chef And ...         2006   \n..                                                 ...          ...   \n995  A Unbelieveable Yarn of a Boat And a Database ...         2006   \n996  A Touching Drama of a Teacher And a Cat who mu...         2006   \n997  A Fateful Yarn of a Composer And a Man who mus...         2006   \n998  A Fateful Reflection of a Waitress And a Boat ...         2006   \n999  A Intrepid Panorama of a Mad Scientist And a B...         2006   \n\n     language_id original_language_id  rental_duration  rental_rate  length  \\\n0              1                 None                6         0.99      86   \n1              1                 None                3         4.99      48   \n2              1                 None                7         2.99      50   \n3              1                 None                5         2.99     117   \n4              1                 None                6         2.99     130   \n..           ...                  ...              ...          ...     ...   \n995            1                 None                6         0.99     183   \n996            1                 None                4         0.99     179   \n997            1                 None                6         0.99     105   \n998            1                 None                5         2.99     101   \n999            1                 None                3         4.99      50   \n\n     replacement_cost rating                         special_features  \\\n0               20.99     PG         Deleted Scenes,Behind the Scenes   \n1               12.99      G                  Trailers,Deleted Scenes   \n2               18.99  NC-17                  Trailers,Deleted Scenes   \n3               26.99      G           Commentaries,Behind the Scenes   \n4               22.99      G                           Deleted Scenes   \n..                ...    ...                                      ...   \n995              9.99      G               Trailers,Behind the Scenes   \n996             14.99  NC-17               Trailers,Behind the Scenes   \n997             10.99  NC-17                           Deleted Scenes   \n998             28.99      R                  Trailers,Deleted Scenes   \n999             18.99  NC-17  Trailers,Commentaries,Behind the Scenes   \n\n             last_update  \n0    2021-03-06 15:52:00  \n1    2021-03-06 15:52:00  \n2    2021-03-06 15:52:00  \n3    2021-03-06 15:52:00  \n4    2021-03-06 15:52:00  \n..                   ...  \n995  2021-03-06 15:52:08  \n996  2021-03-06 15:52:08  \n997  2021-03-06 15:52:08  \n998  2021-03-06 15:52:08  \n999  2021-03-06 15:52:08  \n\n[1000 rows x 13 columns]",
      "text/html": "<div>\n<style scoped>\n    .dataframe tbody tr th:only-of-type {\n        vertical-align: middle;\n    }\n\n    .dataframe tbody tr th {\n        vertical-align: top;\n    }\n\n    .dataframe thead th {\n        text-align: right;\n    }\n</style>\n<table border=\"1\" class=\"dataframe\">\n  <thead>\n    <tr style=\"text-align: right;\">\n      <th></th>\n      <th>film_id</th>\n      <th>title</th>\n      <th>description</th>\n      <th>release_year</th>\n      <th>language_id</th>\n      <th>original_language_id</th>\n      <th>rental_duration</th>\n      <th>rental_rate</th>\n      <th>length</th>\n      <th>replacement_cost</th>\n      <th>rating</th>\n      <th>special_features</th>\n      <th>last_update</th>\n    </tr>\n  </thead>\n  <tbody>\n    <tr>\n      <th>0</th>\n      <td>1</td>\n      <td>ACADEMY DINOSAUR</td>\n      <td>A Epic Drama of a Feminist And a Mad Scientist...</td>\n      <td>2006</td>\n      <td>1</td>\n      <td>None</td>\n      <td>6</td>\n      <td>0.99</td>\n      <td>86</td>\n      <td>20.99</td>\n      <td>PG</td>\n      <td>Deleted Scenes,Behind the Scenes</td>\n      <td>2021-03-06 15:52:00</td>\n    </tr>\n    <tr>\n      <th>1</th>\n      <td>2</td>\n      <td>ACE GOLDFINGER</td>\n      <td>A Astounding Epistle of a Database Administrat...</td>\n      <td>2006</td>\n      <td>1</td>\n      <td>None</td>\n      <td>3</td>\n      <td>4.99</td>\n      <td>48</td>\n      <td>12.99</td>\n      <td>G</td>\n      <td>Trailers,Deleted Scenes</td>\n      <td>2021-03-06 15:52:00</td>\n    </tr>\n    <tr>\n      <th>2</th>\n      <td>3</td>\n      <td>ADAPTATION HOLES</td>\n      <td>A Astounding Reflection of a Lumberjack And a ...</td>\n      <td>2006</td>\n      <td>1</td>\n      <td>None</td>\n      <td>7</td>\n      <td>2.99</td>\n      <td>50</td>\n      <td>18.99</td>\n      <td>NC-17</td>\n      <td>Trailers,Deleted Scenes</td>\n      <td>2021-03-06 15:52:00</td>\n    </tr>\n    <tr>\n      <th>3</th>\n      <td>4</td>\n      <td>AFFAIR PREJUDICE</td>\n      <td>A Fanciful Documentary of a Frisbee And a Lumb...</td>\n      <td>2006</td>\n      <td>1</td>\n      <td>None</td>\n      <td>5</td>\n      <td>2.99</td>\n      <td>117</td>\n      <td>26.99</td>\n      <td>G</td>\n      <td>Commentaries,Behind the Scenes</td>\n      <td>2021-03-06 15:52:00</td>\n    </tr>\n    <tr>\n      <th>4</th>\n      <td>5</td>\n      <td>AFRICAN EGG</td>\n      <td>A Fast-Paced Documentary of a Pastry Chef And ...</td>\n      <td>2006</td>\n      <td>1</td>\n      <td>None</td>\n      <td>6</td>\n      <td>2.99</td>\n      <td>130</td>\n      <td>22.99</td>\n      <td>G</td>\n      <td>Deleted Scenes</td>\n      <td>2021-03-06 15:52:00</td>\n    </tr>\n    <tr>\n      <th>...</th>\n      <td>...</td>\n      <td>...</td>\n      <td>...</td>\n      <td>...</td>\n      <td>...</td>\n      <td>...</td>\n      <td>...</td>\n      <td>...</td>\n      <td>...</td>\n      <td>...</td>\n      <td>...</td>\n      <td>...</td>\n      <td>...</td>\n    </tr>\n    <tr>\n      <th>995</th>\n      <td>996</td>\n      <td>YOUNG LANGUAGE</td>\n      <td>A Unbelieveable Yarn of a Boat And a Database ...</td>\n      <td>2006</td>\n      <td>1</td>\n      <td>None</td>\n      <td>6</td>\n      <td>0.99</td>\n      <td>183</td>\n      <td>9.99</td>\n      <td>G</td>\n      <td>Trailers,Behind the Scenes</td>\n      <td>2021-03-06 15:52:08</td>\n    </tr>\n    <tr>\n      <th>996</th>\n      <td>997</td>\n      <td>YOUTH KICK</td>\n      <td>A Touching Drama of a Teacher And a Cat who mu...</td>\n      <td>2006</td>\n      <td>1</td>\n      <td>None</td>\n      <td>4</td>\n      <td>0.99</td>\n      <td>179</td>\n      <td>14.99</td>\n      <td>NC-17</td>\n      <td>Trailers,Behind the Scenes</td>\n      <td>2021-03-06 15:52:08</td>\n    </tr>\n    <tr>\n      <th>997</th>\n      <td>998</td>\n      <td>ZHIVAGO CORE</td>\n      <td>A Fateful Yarn of a Composer And a Man who mus...</td>\n      <td>2006</td>\n      <td>1</td>\n      <td>None</td>\n      <td>6</td>\n      <td>0.99</td>\n      <td>105</td>\n      <td>10.99</td>\n      <td>NC-17</td>\n      <td>Deleted Scenes</td>\n      <td>2021-03-06 15:52:08</td>\n    </tr>\n    <tr>\n      <th>998</th>\n      <td>999</td>\n      <td>ZOOLANDER FICTION</td>\n      <td>A Fateful Reflection of a Waitress And a Boat ...</td>\n      <td>2006</td>\n      <td>1</td>\n      <td>None</td>\n      <td>5</td>\n      <td>2.99</td>\n      <td>101</td>\n      <td>28.99</td>\n      <td>R</td>\n      <td>Trailers,Deleted Scenes</td>\n      <td>2021-03-06 15:52:08</td>\n    </tr>\n    <tr>\n      <th>999</th>\n      <td>1000</td>\n      <td>ZORRO ARK</td>\n      <td>A Intrepid Panorama of a Mad Scientist And a B...</td>\n      <td>2006</td>\n      <td>1</td>\n      <td>None</td>\n      <td>3</td>\n      <td>4.99</td>\n      <td>50</td>\n      <td>18.99</td>\n      <td>NC-17</td>\n      <td>Trailers,Commentaries,Behind the Scenes</td>\n      <td>2021-03-06 15:52:08</td>\n    </tr>\n  </tbody>\n</table>\n<p>1000 rows × 13 columns</p>\n</div>"
     },
     "execution_count": 16,
     "metadata": {},
     "output_type": "execute_result"
    }
   ],
   "source": [
    "pd.read_sql(\"\"\"\n",
    "\n",
    "SELECT *\n",
    "FROM film;\n",
    "\"\"\", connection)"
   ],
   "metadata": {
    "collapsed": false,
    "pycharm": {
     "name": "#%%\n"
    }
   }
  },
  {
   "cell_type": "code",
   "execution_count": 18,
   "outputs": [
    {
     "data": {
      "text/plain": "       payment_id             payment_date  amount\n0               1  2005-05-25 11:30:37.000    2.99\n1               2  2005-05-28 10:35:23.000    0.99\n2               3  2005-06-15 00:54:12.000    5.99\n3               4  2005-06-15 18:02:53.000    0.99\n4               5  2005-06-15 21:08:46.000    9.99\n...           ...                      ...     ...\n16044       16045  2005-08-21 17:43:42.000    4.99\n16045       16046  2005-08-21 21:41:57.000    1.99\n16046       16047  2005-08-23 06:09:44.000    8.99\n16047       16048  2005-08-23 11:08:46.000    2.99\n16048       16049  2005-08-23 11:25:00.000    2.99\n\n[16049 rows x 3 columns]",
      "text/html": "<div>\n<style scoped>\n    .dataframe tbody tr th:only-of-type {\n        vertical-align: middle;\n    }\n\n    .dataframe tbody tr th {\n        vertical-align: top;\n    }\n\n    .dataframe thead th {\n        text-align: right;\n    }\n</style>\n<table border=\"1\" class=\"dataframe\">\n  <thead>\n    <tr style=\"text-align: right;\">\n      <th></th>\n      <th>payment_id</th>\n      <th>payment_date</th>\n      <th>amount</th>\n    </tr>\n  </thead>\n  <tbody>\n    <tr>\n      <th>0</th>\n      <td>1</td>\n      <td>2005-05-25 11:30:37.000</td>\n      <td>2.99</td>\n    </tr>\n    <tr>\n      <th>1</th>\n      <td>2</td>\n      <td>2005-05-28 10:35:23.000</td>\n      <td>0.99</td>\n    </tr>\n    <tr>\n      <th>2</th>\n      <td>3</td>\n      <td>2005-06-15 00:54:12.000</td>\n      <td>5.99</td>\n    </tr>\n    <tr>\n      <th>3</th>\n      <td>4</td>\n      <td>2005-06-15 18:02:53.000</td>\n      <td>0.99</td>\n    </tr>\n    <tr>\n      <th>4</th>\n      <td>5</td>\n      <td>2005-06-15 21:08:46.000</td>\n      <td>9.99</td>\n    </tr>\n    <tr>\n      <th>...</th>\n      <td>...</td>\n      <td>...</td>\n      <td>...</td>\n    </tr>\n    <tr>\n      <th>16044</th>\n      <td>16045</td>\n      <td>2005-08-21 17:43:42.000</td>\n      <td>4.99</td>\n    </tr>\n    <tr>\n      <th>16045</th>\n      <td>16046</td>\n      <td>2005-08-21 21:41:57.000</td>\n      <td>1.99</td>\n    </tr>\n    <tr>\n      <th>16046</th>\n      <td>16047</td>\n      <td>2005-08-23 06:09:44.000</td>\n      <td>8.99</td>\n    </tr>\n    <tr>\n      <th>16047</th>\n      <td>16048</td>\n      <td>2005-08-23 11:08:46.000</td>\n      <td>2.99</td>\n    </tr>\n    <tr>\n      <th>16048</th>\n      <td>16049</td>\n      <td>2005-08-23 11:25:00.000</td>\n      <td>2.99</td>\n    </tr>\n  </tbody>\n</table>\n<p>16049 rows × 3 columns</p>\n</div>"
     },
     "execution_count": 18,
     "metadata": {},
     "output_type": "execute_result"
    }
   ],
   "source": [
    "pd.read_sql(\"\"\"\n",
    "\n",
    "SELECT\n",
    "    payment_id\n",
    "    ,payment_date\n",
    "    ,amount\n",
    "FROM payment;\n",
    "\n",
    "\"\"\", connection)"
   ],
   "metadata": {
    "collapsed": false,
    "pycharm": {
     "name": "#%%\n"
    }
   }
  },
  {
   "cell_type": "code",
   "execution_count": 20,
   "outputs": [
    {
     "data": {
      "text/plain": "   COUNT (*)\n0      16049",
      "text/html": "<div>\n<style scoped>\n    .dataframe tbody tr th:only-of-type {\n        vertical-align: middle;\n    }\n\n    .dataframe tbody tr th {\n        vertical-align: top;\n    }\n\n    .dataframe thead th {\n        text-align: right;\n    }\n</style>\n<table border=\"1\" class=\"dataframe\">\n  <thead>\n    <tr style=\"text-align: right;\">\n      <th></th>\n      <th>COUNT (*)</th>\n    </tr>\n  </thead>\n  <tbody>\n    <tr>\n      <th>0</th>\n      <td>16049</td>\n    </tr>\n  </tbody>\n</table>\n</div>"
     },
     "execution_count": 20,
     "metadata": {},
     "output_type": "execute_result"
    }
   ],
   "source": [
    "pd.read_sql(\"\"\"\n",
    "\n",
    "SELECT COUNT (*)\n",
    "FROM payment;\n",
    "\"\"\", connection)"
   ],
   "metadata": {
    "collapsed": false,
    "pycharm": {
     "name": "#%%\n"
    }
   }
  },
  {
   "cell_type": "code",
   "execution_count": 21,
   "outputs": [
    {
     "data": {
      "text/plain": "   COUNT (rental_id)\n0              16044",
      "text/html": "<div>\n<style scoped>\n    .dataframe tbody tr th:only-of-type {\n        vertical-align: middle;\n    }\n\n    .dataframe tbody tr th {\n        vertical-align: top;\n    }\n\n    .dataframe thead th {\n        text-align: right;\n    }\n</style>\n<table border=\"1\" class=\"dataframe\">\n  <thead>\n    <tr style=\"text-align: right;\">\n      <th></th>\n      <th>COUNT (rental_id)</th>\n    </tr>\n  </thead>\n  <tbody>\n    <tr>\n      <th>0</th>\n      <td>16044</td>\n    </tr>\n  </tbody>\n</table>\n</div>"
     },
     "execution_count": 21,
     "metadata": {},
     "output_type": "execute_result"
    }
   ],
   "source": [
    "pd.read_sql(\"\"\"\n",
    "\n",
    "SELECT COUNT (rental_id)\n",
    "From payment;\n",
    "\"\"\", connection)"
   ],
   "metadata": {
    "collapsed": false,
    "pycharm": {
     "name": "#%%\n"
    }
   }
  },
  {
   "cell_type": "code",
   "execution_count": 92,
   "outputs": [
    {
     "data": {
      "text/plain": "   payment_id  customer_id  staff_id rental_id  amount  \\\n0         424           16         1      None    1.99   \n1        7011          259         2      None    1.99   \n2       10840          401         1      None    0.99   \n3       14675          546         1      None    3.99   \n4       15458          577         2      None    0.99   \n\n              payment_date          last_update  \n0  2005-06-18 04:56:12.000  2021-03-06 15:56:00  \n1  2005-08-23 06:13:16.000  2021-03-06 15:56:55  \n2  2005-07-12 06:26:10.000  2021-03-06 15:57:27  \n3  2005-07-30 21:16:20.000  2021-03-06 15:57:58  \n4  2005-05-27 00:46:39.000  2021-03-06 15:58:04  ",
      "text/html": "<div>\n<style scoped>\n    .dataframe tbody tr th:only-of-type {\n        vertical-align: middle;\n    }\n\n    .dataframe tbody tr th {\n        vertical-align: top;\n    }\n\n    .dataframe thead th {\n        text-align: right;\n    }\n</style>\n<table border=\"1\" class=\"dataframe\">\n  <thead>\n    <tr style=\"text-align: right;\">\n      <th></th>\n      <th>payment_id</th>\n      <th>customer_id</th>\n      <th>staff_id</th>\n      <th>rental_id</th>\n      <th>amount</th>\n      <th>payment_date</th>\n      <th>last_update</th>\n    </tr>\n  </thead>\n  <tbody>\n    <tr>\n      <th>0</th>\n      <td>424</td>\n      <td>16</td>\n      <td>1</td>\n      <td>None</td>\n      <td>1.99</td>\n      <td>2005-06-18 04:56:12.000</td>\n      <td>2021-03-06 15:56:00</td>\n    </tr>\n    <tr>\n      <th>1</th>\n      <td>7011</td>\n      <td>259</td>\n      <td>2</td>\n      <td>None</td>\n      <td>1.99</td>\n      <td>2005-08-23 06:13:16.000</td>\n      <td>2021-03-06 15:56:55</td>\n    </tr>\n    <tr>\n      <th>2</th>\n      <td>10840</td>\n      <td>401</td>\n      <td>1</td>\n      <td>None</td>\n      <td>0.99</td>\n      <td>2005-07-12 06:26:10.000</td>\n      <td>2021-03-06 15:57:27</td>\n    </tr>\n    <tr>\n      <th>3</th>\n      <td>14675</td>\n      <td>546</td>\n      <td>1</td>\n      <td>None</td>\n      <td>3.99</td>\n      <td>2005-07-30 21:16:20.000</td>\n      <td>2021-03-06 15:57:58</td>\n    </tr>\n    <tr>\n      <th>4</th>\n      <td>15458</td>\n      <td>577</td>\n      <td>2</td>\n      <td>None</td>\n      <td>0.99</td>\n      <td>2005-05-27 00:46:39.000</td>\n      <td>2021-03-06 15:58:04</td>\n    </tr>\n  </tbody>\n</table>\n</div>"
     },
     "execution_count": 92,
     "metadata": {},
     "output_type": "execute_result"
    }
   ],
   "source": [
    "pd.read_sql(\"\"\"\n",
    "\n",
    "SELECT *\n",
    "FROM payment\n",
    "WHERE rental_id IS NULL\n",
    "\"\"\", connection)"
   ],
   "metadata": {
    "collapsed": false,
    "pycharm": {
     "name": "#%%\n"
    }
   }
  },
  {
   "cell_type": "code",
   "execution_count": 28,
   "outputs": [
    {
     "data": {
      "text/plain": "   COUNT(return_date)\n0                   0",
      "text/html": "<div>\n<style scoped>\n    .dataframe tbody tr th:only-of-type {\n        vertical-align: middle;\n    }\n\n    .dataframe tbody tr th {\n        vertical-align: top;\n    }\n\n    .dataframe thead th {\n        text-align: right;\n    }\n</style>\n<table border=\"1\" class=\"dataframe\">\n  <thead>\n    <tr style=\"text-align: right;\">\n      <th></th>\n      <th>COUNT(return_date)</th>\n    </tr>\n  </thead>\n  <tbody>\n    <tr>\n      <th>0</th>\n      <td>0</td>\n    </tr>\n  </tbody>\n</table>\n</div>"
     },
     "execution_count": 28,
     "metadata": {},
     "output_type": "execute_result"
    }
   ],
   "source": [
    "pd.read_sql(\"\"\"\n",
    "\n",
    "SELECT COUNT(return_date)\n",
    "FROM rental\n",
    "WHERE return_date IS NULL;\n",
    "\n",
    "\"\"\", connection)"
   ],
   "metadata": {
    "collapsed": false,
    "pycharm": {
     "name": "#%%\n"
    }
   }
  },
  {
   "cell_type": "code",
   "execution_count": 29,
   "outputs": [
    {
     "data": {
      "text/plain": "  rating  MIN(length)  MAX(length)\n0     PG           46          185",
      "text/html": "<div>\n<style scoped>\n    .dataframe tbody tr th:only-of-type {\n        vertical-align: middle;\n    }\n\n    .dataframe tbody tr th {\n        vertical-align: top;\n    }\n\n    .dataframe thead th {\n        text-align: right;\n    }\n</style>\n<table border=\"1\" class=\"dataframe\">\n  <thead>\n    <tr style=\"text-align: right;\">\n      <th></th>\n      <th>rating</th>\n      <th>MIN(length)</th>\n      <th>MAX(length)</th>\n    </tr>\n  </thead>\n  <tbody>\n    <tr>\n      <th>0</th>\n      <td>PG</td>\n      <td>46</td>\n      <td>185</td>\n    </tr>\n  </tbody>\n</table>\n</div>"
     },
     "execution_count": 29,
     "metadata": {},
     "output_type": "execute_result"
    }
   ],
   "source": [
    "pd.read_sql(\"\"\"\n",
    "\n",
    "SELECT\n",
    "    rating\n",
    "    ,MIN(length)\n",
    "    ,MAX(length)\n",
    "FROM film\n",
    "WHERE rating ='PG';\n",
    "\n",
    "\"\"\", connection)"
   ],
   "metadata": {
    "collapsed": false,
    "pycharm": {
     "name": "#%%\n"
    }
   }
  },
  {
   "cell_type": "code",
   "execution_count": 36,
   "outputs": [
    {
     "data": {
      "text/plain": "  rating  MIN(length)  MAX(length)  Average\n0      G           47          185    111.0\n1  NC-17           46          184    113.0\n2     PG           46          185    112.0\n3  PG-13           46          185    120.0\n4      R           49          185    119.0",
      "text/html": "<div>\n<style scoped>\n    .dataframe tbody tr th:only-of-type {\n        vertical-align: middle;\n    }\n\n    .dataframe tbody tr th {\n        vertical-align: top;\n    }\n\n    .dataframe thead th {\n        text-align: right;\n    }\n</style>\n<table border=\"1\" class=\"dataframe\">\n  <thead>\n    <tr style=\"text-align: right;\">\n      <th></th>\n      <th>rating</th>\n      <th>MIN(length)</th>\n      <th>MAX(length)</th>\n      <th>Average</th>\n    </tr>\n  </thead>\n  <tbody>\n    <tr>\n      <th>0</th>\n      <td>G</td>\n      <td>47</td>\n      <td>185</td>\n      <td>111.0</td>\n    </tr>\n    <tr>\n      <th>1</th>\n      <td>NC-17</td>\n      <td>46</td>\n      <td>184</td>\n      <td>113.0</td>\n    </tr>\n    <tr>\n      <th>2</th>\n      <td>PG</td>\n      <td>46</td>\n      <td>185</td>\n      <td>112.0</td>\n    </tr>\n    <tr>\n      <th>3</th>\n      <td>PG-13</td>\n      <td>46</td>\n      <td>185</td>\n      <td>120.0</td>\n    </tr>\n    <tr>\n      <th>4</th>\n      <td>R</td>\n      <td>49</td>\n      <td>185</td>\n      <td>119.0</td>\n    </tr>\n  </tbody>\n</table>\n</div>"
     },
     "execution_count": 36,
     "metadata": {},
     "output_type": "execute_result"
    }
   ],
   "source": [
    "pd.read_sql(\"\"\"\n",
    "\n",
    "SELECT\n",
    "    rating\n",
    "    ,MIN(length)\n",
    "    ,MAX(length)\n",
    "    ,ROUND(AVG(length), 0) AS Average\n",
    "FROM film\n",
    "GROUP BY rating\n",
    "\n",
    "\"\"\", connection)"
   ],
   "metadata": {
    "collapsed": false,
    "pycharm": {
     "name": "#%%\n"
    }
   }
  },
  {
   "cell_type": "code",
   "execution_count": 90,
   "outputs": [
    {
     "data": {
      "text/plain": "  Rating  Count\n0  PG-13    223\n1  NC-17    210\n2      R    195\n3     PG    194\n4      G    178",
      "text/html": "<div>\n<style scoped>\n    .dataframe tbody tr th:only-of-type {\n        vertical-align: middle;\n    }\n\n    .dataframe tbody tr th {\n        vertical-align: top;\n    }\n\n    .dataframe thead th {\n        text-align: right;\n    }\n</style>\n<table border=\"1\" class=\"dataframe\">\n  <thead>\n    <tr style=\"text-align: right;\">\n      <th></th>\n      <th>Rating</th>\n      <th>Count</th>\n    </tr>\n  </thead>\n  <tbody>\n    <tr>\n      <th>0</th>\n      <td>PG-13</td>\n      <td>223</td>\n    </tr>\n    <tr>\n      <th>1</th>\n      <td>NC-17</td>\n      <td>210</td>\n    </tr>\n    <tr>\n      <th>2</th>\n      <td>R</td>\n      <td>195</td>\n    </tr>\n    <tr>\n      <th>3</th>\n      <td>PG</td>\n      <td>194</td>\n    </tr>\n    <tr>\n      <th>4</th>\n      <td>G</td>\n      <td>178</td>\n    </tr>\n  </tbody>\n</table>\n</div>"
     },
     "execution_count": 90,
     "metadata": {},
     "output_type": "execute_result"
    }
   ],
   "source": [
    "films_per_rating = pd.read_sql(\"\"\"\n",
    "\n",
    "SELECT\n",
    "    rating AS Rating\n",
    "    ,COUNT(title) AS Count\n",
    "FROM film\n",
    "GROUP BY rating\n",
    "ORDER BY Count Desc\n",
    "\n",
    "\"\"\", connection)\n",
    "\n",
    "films_per_rating"
   ],
   "metadata": {
    "collapsed": false,
    "pycharm": {
     "name": "#%%\n"
    }
   }
  },
  {
   "cell_type": "code",
   "execution_count": 96,
   "outputs": [
    {
     "data": {
      "text/plain": "<Figure size 720x360 with 1 Axes>",
      "image/png": "[encoded data removed]"
     },
     "metadata": {
      "needs_background": "light"
     },
     "output_type": "display_data"
    }
   ],
   "source": [
    "fig, ax = plt.subplots(figsize = (10,5))\n",
    "\n",
    "ypos = np.arange(len(films_per_rating[\"Count\"]))\n",
    "bars = ax.bar(ypos, films_per_rating[\"Count\"], width = 0.50)\n",
    "ax.set_xticks(ypos)\n",
    "ax.set_xticklabels(films_per_rating[\"Rating\"])\n",
    "ax.set_ylim(ymax=250)\n",
    "ax.set_title(\"Number Movie in Each Category\", fontsize = 14)\n",
    "ax.set_ylabel(\"Number of Movies\", fontsize = 12)\n",
    "\n",
    "for bar in bars:\n",
    "    height = bar.get_height()\n",
    "    ax.annotate(f\"{height}\",\n",
    "                    xy=(bar.get_x() + bar.get_width() / 2, height),\n",
    "                    xytext =(0,3),\n",
    "                    textcoords=\"offset points\",\n",
    "                    ha=\"center\", va=\"bottom\",\n",
    "                    fontweight=\"semibold\")\n",
    "plt.show()"
   ],
   "metadata": {
    "collapsed": false,
    "pycharm": {
     "name": "#%%\n"
    }
   }
  },
  {
   "cell_type": "code",
   "execution_count": 98,
   "outputs": [
    {
     "data": {
      "text/plain": "  Rating  Count\n0  PG-13   1018\n1  NC-17    944\n2     PG    924\n3      R    904\n4      G    791",
      "text/html": "<div>\n<style scoped>\n    .dataframe tbody tr th:only-of-type {\n        vertical-align: middle;\n    }\n\n    .dataframe tbody tr th {\n        vertical-align: top;\n    }\n\n    .dataframe thead th {\n        text-align: right;\n    }\n</style>\n<table border=\"1\" class=\"dataframe\">\n  <thead>\n    <tr style=\"text-align: right;\">\n      <th></th>\n      <th>Rating</th>\n      <th>Count</th>\n    </tr>\n  </thead>\n  <tbody>\n    <tr>\n      <th>0</th>\n      <td>PG-13</td>\n      <td>1018</td>\n    </tr>\n    <tr>\n      <th>1</th>\n      <td>NC-17</td>\n      <td>944</td>\n    </tr>\n    <tr>\n      <th>2</th>\n      <td>PG</td>\n      <td>924</td>\n    </tr>\n    <tr>\n      <th>3</th>\n      <td>R</td>\n      <td>904</td>\n    </tr>\n    <tr>\n      <th>4</th>\n      <td>G</td>\n      <td>791</td>\n    </tr>\n  </tbody>\n</table>\n</div>"
     },
     "execution_count": 98,
     "metadata": {},
     "output_type": "execute_result"
    }
   ],
   "source": [
    "films_in_inv = pd.read_sql(\"\"\"\n",
    "\n",
    "SELECT\n",
    "    rating AS Rating\n",
    "    ,COUNT(title) AS Count\n",
    "FROM inventory AS i\n",
    "JOIN film as f\n",
    "ON i.film_id = f.film_id\n",
    "GROUP BY Rating\n",
    "ORDER BY Count DESC\n",
    "\"\"\", connection)\n",
    "\n",
    "films_in_inv"
   ],
   "metadata": {
    "collapsed": false,
    "pycharm": {
     "name": "#%%\n"
    }
   }
  },
  {
   "cell_type": "code",
   "execution_count": 112,
   "outputs": [
    {
     "data": {
      "text/plain": "<Figure size 720x360 with 1 Axes>",
      "image/png": "[encoded data removed]"
     },
     "metadata": {
      "needs_background": "light"
     },
     "output_type": "display_data"
    }
   ],
   "source": [
    "fig, ax = plt.subplots(figsize = (10,5))\n",
    "\n",
    "ypos = np.arange(len(films_in_inv[\"Count\"]))\n",
    "bars = ax.bar(ypos, films_in_inv[\"Count\"], width = 0.50)\n",
    "ax.set_xticks(ypos)\n",
    "ax.set_xticklabels(films_per_rating[\"Rating\"])\n",
    "ax.set_ylim(ymax=1100)\n",
    "ax.set_title(\"Number of Movies in Each Category Held in Inventory\", fontsize = 14)\n",
    "ax.set_ylabel(\"Number of Movies Held in Inventory\", fontsize = 12)\n",
    "\n",
    "for bar in bars:\n",
    "    height = bar.get_height()\n",
    "    ax.annotate(f\"{height}\",\n",
    "                    xy=(bar.get_x() + bar.get_width() / 2, height),\n",
    "                    xytext =(0,3),\n",
    "                    textcoords=\"offset points\",\n",
    "                    ha=\"center\", va=\"bottom\",\n",
    "                    fontweight=\"semibold\")\n",
    "plt.show()"
   ],
   "metadata": {
    "collapsed": false,
    "pycharm": {
     "name": "#%%\n"
    }
   }
  },
  {
   "cell_type": "code",
   "execution_count": 115,
   "outputs": [
    {
     "data": {
      "text/plain": "                   Title  Count rating\n0       ACADEMY DINOSAUR      8     PG\n1          BOUND CHEAPER      8     PG\n2     BUCKET BROTHERHOOD      8     PG\n3    EXPENDABLE STALLION      8     PG\n4             FROST HEAD      8     PG\n..                   ...    ...    ...\n178         PRIVATE DROP      2     PG\n179         PUNK DIVORCE      2     PG\n180        RECORDS ZORRO      2     PG\n181         TEQUILA PAST      2     PG\n182     TREATMENT JEKYLL      2     PG\n\n[183 rows x 3 columns]",
      "text/html": "<div>\n<style scoped>\n    .dataframe tbody tr th:only-of-type {\n        vertical-align: middle;\n    }\n\n    .dataframe tbody tr th {\n        vertical-align: top;\n    }\n\n    .dataframe thead th {\n        text-align: right;\n    }\n</style>\n<table border=\"1\" class=\"dataframe\">\n  <thead>\n    <tr style=\"text-align: right;\">\n      <th></th>\n      <th>Title</th>\n      <th>Count</th>\n      <th>rating</th>\n    </tr>\n  </thead>\n  <tbody>\n    <tr>\n      <th>0</th>\n      <td>ACADEMY DINOSAUR</td>\n      <td>8</td>\n      <td>PG</td>\n    </tr>\n    <tr>\n      <th>1</th>\n      <td>BOUND CHEAPER</td>\n      <td>8</td>\n      <td>PG</td>\n    </tr>\n    <tr>\n      <th>2</th>\n      <td>BUCKET BROTHERHOOD</td>\n      <td>8</td>\n      <td>PG</td>\n    </tr>\n    <tr>\n      <th>3</th>\n      <td>EXPENDABLE STALLION</td>\n      <td>8</td>\n      <td>PG</td>\n    </tr>\n    <tr>\n      <th>4</th>\n      <td>FROST HEAD</td>\n      <td>8</td>\n      <td>PG</td>\n    </tr>\n    <tr>\n      <th>...</th>\n      <td>...</td>\n      <td>...</td>\n      <td>...</td>\n    </tr>\n    <tr>\n      <th>178</th>\n      <td>PRIVATE DROP</td>\n      <td>2</td>\n      <td>PG</td>\n    </tr>\n    <tr>\n      <th>179</th>\n      <td>PUNK DIVORCE</td>\n      <td>2</td>\n      <td>PG</td>\n    </tr>\n    <tr>\n      <th>180</th>\n      <td>RECORDS ZORRO</td>\n      <td>2</td>\n      <td>PG</td>\n    </tr>\n    <tr>\n      <th>181</th>\n      <td>TEQUILA PAST</td>\n      <td>2</td>\n      <td>PG</td>\n    </tr>\n    <tr>\n      <th>182</th>\n      <td>TREATMENT JEKYLL</td>\n      <td>2</td>\n      <td>PG</td>\n    </tr>\n  </tbody>\n</table>\n<p>183 rows × 3 columns</p>\n</div>"
     },
     "execution_count": 115,
     "metadata": {},
     "output_type": "execute_result"
    }
   ],
   "source": [
    "pd.read_sql(\"\"\"\n",
    "\n",
    "SELECT\n",
    "    f.title AS Title\n",
    "    ,COUNT(*) AS Count\n",
    "    ,f.rating\n",
    "FROM inventory AS i\n",
    "JOIN film AS f\n",
    "ON i.film_id = f.film_id\n",
    "WHERE Rating = 'PG'\n",
    "GROUP BY f.title\n",
    "ORDER BY Count DESC, Title ASC;\n",
    "\n",
    "\"\"\", connection)"
   ],
   "metadata": {
    "collapsed": false,
    "pycharm": {
     "name": "#%%\n"
    }
   }
  },
  {
   "cell_type": "code",
   "execution_count": 118,
   "outputs": [
    {
     "data": {
      "text/plain": "      inventory_id  film_id  store_id          last_update\n0                1        1         1  2021-03-06 15:52:08\n1                2        1         1  2021-03-06 15:52:08\n2                3        1         1  2021-03-06 15:52:08\n3                4        1         1  2021-03-06 15:52:08\n4                5        1         2  2021-03-06 15:52:08\n...            ...      ...       ...                  ...\n4576          4577     1000         1  2021-03-06 15:52:45\n4577          4578     1000         2  2021-03-06 15:52:45\n4578          4579     1000         2  2021-03-06 15:52:45\n4579          4580     1000         2  2021-03-06 15:52:45\n4580          4581     1000         2  2021-03-06 15:52:45\n\n[4581 rows x 4 columns]",
      "text/html": "<div>\n<style scoped>\n    .dataframe tbody tr th:only-of-type {\n        vertical-align: middle;\n    }\n\n    .dataframe tbody tr th {\n        vertical-align: top;\n    }\n\n    .dataframe thead th {\n        text-align: right;\n    }\n</style>\n<table border=\"1\" class=\"dataframe\">\n  <thead>\n    <tr style=\"text-align: right;\">\n      <th></th>\n      <th>inventory_id</th>\n      <th>film_id</th>\n      <th>store_id</th>\n      <th>last_update</th>\n    </tr>\n  </thead>\n  <tbody>\n    <tr>\n      <th>0</th>\n      <td>1</td>\n      <td>1</td>\n      <td>1</td>\n      <td>2021-03-06 15:52:08</td>\n    </tr>\n    <tr>\n      <th>1</th>\n      <td>2</td>\n      <td>1</td>\n      <td>1</td>\n      <td>2021-03-06 15:52:08</td>\n    </tr>\n    <tr>\n      <th>2</th>\n      <td>3</td>\n      <td>1</td>\n      <td>1</td>\n      <td>2021-03-06 15:52:08</td>\n    </tr>\n    <tr>\n      <th>3</th>\n      <td>4</td>\n      <td>1</td>\n      <td>1</td>\n      <td>2021-03-06 15:52:08</td>\n    </tr>\n    <tr>\n      <th>4</th>\n      <td>5</td>\n      <td>1</td>\n      <td>2</td>\n      <td>2021-03-06 15:52:08</td>\n    </tr>\n    <tr>\n      <th>...</th>\n      <td>...</td>\n      <td>...</td>\n      <td>...</td>\n      <td>...</td>\n    </tr>\n    <tr>\n      <th>4576</th>\n      <td>4577</td>\n      <td>1000</td>\n      <td>1</td>\n      <td>2021-03-06 15:52:45</td>\n    </tr>\n    <tr>\n      <th>4577</th>\n      <td>4578</td>\n      <td>1000</td>\n      <td>2</td>\n      <td>2021-03-06 15:52:45</td>\n    </tr>\n    <tr>\n      <th>4578</th>\n      <td>4579</td>\n      <td>1000</td>\n      <td>2</td>\n      <td>2021-03-06 15:52:45</td>\n    </tr>\n    <tr>\n      <th>4579</th>\n      <td>4580</td>\n      <td>1000</td>\n      <td>2</td>\n      <td>2021-03-06 15:52:45</td>\n    </tr>\n    <tr>\n      <th>4580</th>\n      <td>4581</td>\n      <td>1000</td>\n      <td>2</td>\n      <td>2021-03-06 15:52:45</td>\n    </tr>\n  </tbody>\n</table>\n<p>4581 rows × 4 columns</p>\n</div>"
     },
     "execution_count": 118,
     "metadata": {},
     "output_type": "execute_result"
    }
   ],
   "source": [
    "pd.read_sql(\"\"\"\n",
    "SELECT *\n",
    "FROM inventory\"\"\",connection)"
   ],
   "metadata": {
    "collapsed": false,
    "pycharm": {
     "name": "#%%\n"
    }
   }
  },
  {
   "cell_type": "code",
   "execution_count": 136,
   "outputs": [
    {
     "data": {
      "text/plain": "     film_id              title  \\\n0          1   ACADEMY DINOSAUR   \n1          2     ACE GOLDFINGER   \n2          3   ADAPTATION HOLES   \n3          4   AFFAIR PREJUDICE   \n4          5        AFRICAN EGG   \n..       ...                ...   \n995      996     YOUNG LANGUAGE   \n996      997         YOUTH KICK   \n997      998       ZHIVAGO CORE   \n998      999  ZOOLANDER FICTION   \n999     1000          ZORRO ARK   \n\n                                           description release_year  \\\n0    A Epic Drama of a Feminist And a Mad Scientist...         2006   \n1    A Astounding Epistle of a Database Administrat...         2006   \n2    A Astounding Reflection of a Lumberjack And a ...         2006   \n3    A Fanciful Documentary of a Frisbee And a Lumb...         2006   \n4    A Fast-Paced Documentary of a Pastry Chef And ...         2006   \n..                                                 ...          ...   \n995  A Unbelieveable Yarn of a Boat And a Database ...         2006   \n996  A Touching Drama of a Teacher And a Cat who mu...         2006   \n997  A Fateful Yarn of a Composer And a Man who mus...         2006   \n998  A Fateful Reflection of a Waitress And a Boat ...         2006   \n999  A Intrepid Panorama of a Mad Scientist And a B...         2006   \n\n     language_id original_language_id  rental_duration  rental_rate  length  \\\n0              1                 None                6         0.99      86   \n1              1                 None                3         4.99      48   \n2              1                 None                7         2.99      50   \n3              1                 None                5         2.99     117   \n4              1                 None                6         2.99     130   \n..           ...                  ...              ...          ...     ...   \n995            1                 None                6         0.99     183   \n996            1                 None                4         0.99     179   \n997            1                 None                6         0.99     105   \n998            1                 None                5         2.99     101   \n999            1                 None                3         4.99      50   \n\n     replacement_cost rating                         special_features  \\\n0               20.99     PG         Deleted Scenes,Behind the Scenes   \n1               12.99      G                  Trailers,Deleted Scenes   \n2               18.99  NC-17                  Trailers,Deleted Scenes   \n3               26.99      G           Commentaries,Behind the Scenes   \n4               22.99      G                           Deleted Scenes   \n..                ...    ...                                      ...   \n995              9.99      G               Trailers,Behind the Scenes   \n996             14.99  NC-17               Trailers,Behind the Scenes   \n997             10.99  NC-17                           Deleted Scenes   \n998             28.99      R                  Trailers,Deleted Scenes   \n999             18.99  NC-17  Trailers,Commentaries,Behind the Scenes   \n\n             last_update  \n0    2021-03-06 15:52:00  \n1    2021-03-06 15:52:00  \n2    2021-03-06 15:52:00  \n3    2021-03-06 15:52:00  \n4    2021-03-06 15:52:00  \n..                   ...  \n995  2021-03-06 15:52:08  \n996  2021-03-06 15:52:08  \n997  2021-03-06 15:52:08  \n998  2021-03-06 15:52:08  \n999  2021-03-06 15:52:08  \n\n[1000 rows x 13 columns]",
      "text/html": "<div>\n<style scoped>\n    .dataframe tbody tr th:only-of-type {\n        vertical-align: middle;\n    }\n\n    .dataframe tbody tr th {\n        vertical-align: top;\n    }\n\n    .dataframe thead th {\n        text-align: right;\n    }\n</style>\n<table border=\"1\" class=\"dataframe\">\n  <thead>\n    <tr style=\"text-align: right;\">\n      <th></th>\n      <th>film_id</th>\n      <th>title</th>\n      <th>description</th>\n      <th>release_year</th>\n      <th>language_id</th>\n      <th>original_language_id</th>\n      <th>rental_duration</th>\n      <th>rental_rate</th>\n      <th>length</th>\n      <th>replacement_cost</th>\n      <th>rating</th>\n      <th>special_features</th>\n      <th>last_update</th>\n    </tr>\n  </thead>\n  <tbody>\n    <tr>\n      <th>0</th>\n      <td>1</td>\n      <td>ACADEMY DINOSAUR</td>\n      <td>A Epic Drama of a Feminist And a Mad Scientist...</td>\n      <td>2006</td>\n      <td>1</td>\n      <td>None</td>\n      <td>6</td>\n      <td>0.99</td>\n      <td>86</td>\n      <td>20.99</td>\n      <td>PG</td>\n      <td>Deleted Scenes,Behind the Scenes</td>\n      <td>2021-03-06 15:52:00</td>\n    </tr>\n    <tr>\n      <th>1</th>\n      <td>2</td>\n      <td>ACE GOLDFINGER</td>\n      <td>A Astounding Epistle of a Database Administrat...</td>\n      <td>2006</td>\n      <td>1</td>\n      <td>None</td>\n      <td>3</td>\n      <td>4.99</td>\n      <td>48</td>\n      <td>12.99</td>\n      <td>G</td>\n      <td>Trailers,Deleted Scenes</td>\n      <td>2021-03-06 15:52:00</td>\n    </tr>\n    <tr>\n      <th>2</th>\n      <td>3</td>\n      <td>ADAPTATION HOLES</td>\n      <td>A Astounding Reflection of a Lumberjack And a ...</td>\n      <td>2006</td>\n      <td>1</td>\n      <td>None</td>\n      <td>7</td>\n      <td>2.99</td>\n      <td>50</td>\n      <td>18.99</td>\n      <td>NC-17</td>\n      <td>Trailers,Deleted Scenes</td>\n      <td>2021-03-06 15:52:00</td>\n    </tr>\n    <tr>\n      <th>3</th>\n      <td>4</td>\n      <td>AFFAIR PREJUDICE</td>\n      <td>A Fanciful Documentary of a Frisbee And a Lumb...</td>\n      <td>2006</td>\n      <td>1</td>\n      <td>None</td>\n      <td>5</td>\n      <td>2.99</td>\n      <td>117</td>\n      <td>26.99</td>\n      <td>G</td>\n      <td>Commentaries,Behind the Scenes</td>\n      <td>2021-03-06 15:52:00</td>\n    </tr>\n    <tr>\n      <th>4</th>\n      <td>5</td>\n      <td>AFRICAN EGG</td>\n      <td>A Fast-Paced Documentary of a Pastry Chef And ...</td>\n      <td>2006</td>\n      <td>1</td>\n      <td>None</td>\n      <td>6</td>\n      <td>2.99</td>\n      <td>130</td>\n      <td>22.99</td>\n      <td>G</td>\n      <td>Deleted Scenes</td>\n      <td>2021-03-06 15:52:00</td>\n    </tr>\n    <tr>\n      <th>...</th>\n      <td>...</td>\n      <td>...</td>\n      <td>...</td>\n      <td>...</td>\n      <td>...</td>\n      <td>...</td>\n      <td>...</td>\n      <td>...</td>\n      <td>...</td>\n      <td>...</td>\n      <td>...</td>\n      <td>...</td>\n      <td>...</td>\n    </tr>\n    <tr>\n      <th>995</th>\n      <td>996</td>\n      <td>YOUNG LANGUAGE</td>\n      <td>A Unbelieveable Yarn of a Boat And a Database ...</td>\n      <td>2006</td>\n      <td>1</td>\n      <td>None</td>\n      <td>6</td>\n      <td>0.99</td>\n      <td>183</td>\n      <td>9.99</td>\n      <td>G</td>\n      <td>Trailers,Behind the Scenes</td>\n      <td>2021-03-06 15:52:08</td>\n    </tr>\n    <tr>\n      <th>996</th>\n      <td>997</td>\n      <td>YOUTH KICK</td>\n      <td>A Touching Drama of a Teacher And a Cat who mu...</td>\n      <td>2006</td>\n      <td>1</td>\n      <td>None</td>\n      <td>4</td>\n      <td>0.99</td>\n      <td>179</td>\n      <td>14.99</td>\n      <td>NC-17</td>\n      <td>Trailers,Behind the Scenes</td>\n      <td>2021-03-06 15:52:08</td>\n    </tr>\n    <tr>\n      <th>997</th>\n      <td>998</td>\n      <td>ZHIVAGO CORE</td>\n      <td>A Fateful Yarn of a Composer And a Man who mus...</td>\n      <td>2006</td>\n      <td>1</td>\n      <td>None</td>\n      <td>6</td>\n      <td>0.99</td>\n      <td>105</td>\n      <td>10.99</td>\n      <td>NC-17</td>\n      <td>Deleted Scenes</td>\n      <td>2021-03-06 15:52:08</td>\n    </tr>\n    <tr>\n      <th>998</th>\n      <td>999</td>\n      <td>ZOOLANDER FICTION</td>\n      <td>A Fateful Reflection of a Waitress And a Boat ...</td>\n      <td>2006</td>\n      <td>1</td>\n      <td>None</td>\n      <td>5</td>\n      <td>2.99</td>\n      <td>101</td>\n      <td>28.99</td>\n      <td>R</td>\n      <td>Trailers,Deleted Scenes</td>\n      <td>2021-03-06 15:52:08</td>\n    </tr>\n    <tr>\n      <th>999</th>\n      <td>1000</td>\n      <td>ZORRO ARK</td>\n      <td>A Intrepid Panorama of a Mad Scientist And a B...</td>\n      <td>2006</td>\n      <td>1</td>\n      <td>None</td>\n      <td>3</td>\n      <td>4.99</td>\n      <td>50</td>\n      <td>18.99</td>\n      <td>NC-17</td>\n      <td>Trailers,Commentaries,Behind the Scenes</td>\n      <td>2021-03-06 15:52:08</td>\n    </tr>\n  </tbody>\n</table>\n<p>1000 rows × 13 columns</p>\n</div>"
     },
     "execution_count": 136,
     "metadata": {},
     "output_type": "execute_result"
    }
   ],
   "source": [
    "pd.read_sql(\"\"\"\n",
    "SELECT *\n",
    "FROM film\n",
    "\"\"\",connection)"
   ],
   "metadata": {
    "collapsed": false,
    "pycharm": {
     "name": "#%%\n"
    }
   }
  },
  {
   "cell_type": "code",
   "execution_count": 125,
   "outputs": [
    {
     "data": {
      "text/plain": "   actor_id  film_id          last_update\n0         1        1  2021-03-06 15:52:45\n1         1       23  2021-03-06 15:52:45\n2         1       25  2021-03-06 15:52:45\n3         1      106  2021-03-06 15:52:45\n4         1      140  2021-03-06 15:52:45",
      "text/html": "<div>\n<style scoped>\n    .dataframe tbody tr th:only-of-type {\n        vertical-align: middle;\n    }\n\n    .dataframe tbody tr th {\n        vertical-align: top;\n    }\n\n    .dataframe thead th {\n        text-align: right;\n    }\n</style>\n<table border=\"1\" class=\"dataframe\">\n  <thead>\n    <tr style=\"text-align: right;\">\n      <th></th>\n      <th>actor_id</th>\n      <th>film_id</th>\n      <th>last_update</th>\n    </tr>\n  </thead>\n  <tbody>\n    <tr>\n      <th>0</th>\n      <td>1</td>\n      <td>1</td>\n      <td>2021-03-06 15:52:45</td>\n    </tr>\n    <tr>\n      <th>1</th>\n      <td>1</td>\n      <td>23</td>\n      <td>2021-03-06 15:52:45</td>\n    </tr>\n    <tr>\n      <th>2</th>\n      <td>1</td>\n      <td>25</td>\n      <td>2021-03-06 15:52:45</td>\n    </tr>\n    <tr>\n      <th>3</th>\n      <td>1</td>\n      <td>106</td>\n      <td>2021-03-06 15:52:45</td>\n    </tr>\n    <tr>\n      <th>4</th>\n      <td>1</td>\n      <td>140</td>\n      <td>2021-03-06 15:52:45</td>\n    </tr>\n  </tbody>\n</table>\n</div>"
     },
     "execution_count": 125,
     "metadata": {},
     "output_type": "execute_result"
    }
   ],
   "source": [
    "pd.read_sql(\"\"\"\n",
    "\n",
    "SELECT *\n",
    "FROM film_actor\n",
    "LIMIT 5;\n",
    "    \"\"\", connection)"
   ],
   "metadata": {
    "collapsed": false,
    "pycharm": {
     "name": "#%%\n"
    }
   }
  },
  {
   "cell_type": "code",
   "execution_count": 141,
   "outputs": [
    {
     "data": {
      "text/plain": "                  FilmTitle              Name\n0          ACADEMY DINOSAUR  PENELOPE GUINESS\n1      ANACONDA CONFESSIONS  PENELOPE GUINESS\n2               ANGELS LIFE  PENELOPE GUINESS\n3     BULWORTH COMMANDMENTS  PENELOPE GUINESS\n4             CHEAPER CLYDE  PENELOPE GUINESS\n...                     ...               ...\n5457       TELEGRAPH VOYAGE      THORA TEMPLE\n5458        TROJAN TOMORROW      THORA TEMPLE\n5459        VIRGINIAN PLUTO      THORA TEMPLE\n5460       WARDROBE PHANTOM      THORA TEMPLE\n5461         WRONG BEHAVIOR      THORA TEMPLE\n\n[5462 rows x 2 columns]",
      "text/html": "<div>\n<style scoped>\n    .dataframe tbody tr th:only-of-type {\n        vertical-align: middle;\n    }\n\n    .dataframe tbody tr th {\n        vertical-align: top;\n    }\n\n    .dataframe thead th {\n        text-align: right;\n    }\n</style>\n<table border=\"1\" class=\"dataframe\">\n  <thead>\n    <tr style=\"text-align: right;\">\n      <th></th>\n      <th>FilmTitle</th>\n      <th>Name</th>\n    </tr>\n  </thead>\n  <tbody>\n    <tr>\n      <th>0</th>\n      <td>ACADEMY DINOSAUR</td>\n      <td>PENELOPE GUINESS</td>\n    </tr>\n    <tr>\n      <th>1</th>\n      <td>ANACONDA CONFESSIONS</td>\n      <td>PENELOPE GUINESS</td>\n    </tr>\n    <tr>\n      <th>2</th>\n      <td>ANGELS LIFE</td>\n      <td>PENELOPE GUINESS</td>\n    </tr>\n    <tr>\n      <th>3</th>\n      <td>BULWORTH COMMANDMENTS</td>\n      <td>PENELOPE GUINESS</td>\n    </tr>\n    <tr>\n      <th>4</th>\n      <td>CHEAPER CLYDE</td>\n      <td>PENELOPE GUINESS</td>\n    </tr>\n    <tr>\n      <th>...</th>\n      <td>...</td>\n      <td>...</td>\n    </tr>\n    <tr>\n      <th>5457</th>\n      <td>TELEGRAPH VOYAGE</td>\n      <td>THORA TEMPLE</td>\n    </tr>\n    <tr>\n      <th>5458</th>\n      <td>TROJAN TOMORROW</td>\n      <td>THORA TEMPLE</td>\n    </tr>\n    <tr>\n      <th>5459</th>\n      <td>VIRGINIAN PLUTO</td>\n      <td>THORA TEMPLE</td>\n    </tr>\n    <tr>\n      <th>5460</th>\n      <td>WARDROBE PHANTOM</td>\n      <td>THORA TEMPLE</td>\n    </tr>\n    <tr>\n      <th>5461</th>\n      <td>WRONG BEHAVIOR</td>\n      <td>THORA TEMPLE</td>\n    </tr>\n  </tbody>\n</table>\n<p>5462 rows × 2 columns</p>\n</div>"
     },
     "execution_count": 141,
     "metadata": {},
     "output_type": "execute_result"
    }
   ],
   "source": [
    "pd.read_sql(\"\"\"\n",
    "\n",
    "SELECT\n",
    "    f.title AS FilmTitle\n",
    "    ,a.first_name ||' '|| a.last_name AS Name\n",
    "FROM film_actor AS fa\n",
    "JOIN film AS f\n",
    "ON fa.film_id = f.film_id\n",
    "\n",
    "JOIN actor AS a\n",
    "ON fa.actor_id = a.actor_id\n",
    "\n",
    "\"\"\", connection)"
   ],
   "metadata": {
    "collapsed": false,
    "pycharm": {
     "name": "#%%\n"
    }
   }
  },
  {
   "cell_type": "code",
   "execution_count": 144,
   "outputs": [
    {
     "data": {
      "text/plain": "                   Name  Performance\n0         WOODY HOFFMAN           15\n1              ED CHASE           13\n2          HELEN VOIGHT           13\n3        JENNIFER DAVIS           13\n4   JOHNNY LOLLOBRIGIDA           13\n5         NICK WAHLBERG           13\n6        SISSY SOBIESKI           13\n7       BETTE NICHOLSON           12\n8       BETTE NICHOLSON           12\n9            ELVIS MARX           12\n10         GRACE MOSTEL           12\n11           KARL BERRY           12\n12         RIP CRAWFORD           12\n13         CUBA OLIVIER           11\n14         CUBA OLIVIER           11\n15             ED CHASE           11\n16             ED CHASE           11\n17       JENNIFER DAVIS           11\n18       JENNIFER DAVIS           11\n19  JOHNNY LOLLOBRIGIDA           11\n20        JULIA MCQUEEN           11\n21           KARL BERRY           11\n22           KARL BERRY           11\n23      KIRSTEN PALTROW           11\n24        NICK WAHLBERG           11\n25        SANDRA KILMER           11\n26          TIM HACKMAN           11",
      "text/html": "<div>\n<style scoped>\n    .dataframe tbody tr th:only-of-type {\n        vertical-align: middle;\n    }\n\n    .dataframe tbody tr th {\n        vertical-align: top;\n    }\n\n    .dataframe thead th {\n        text-align: right;\n    }\n</style>\n<table border=\"1\" class=\"dataframe\">\n  <thead>\n    <tr style=\"text-align: right;\">\n      <th></th>\n      <th>Name</th>\n      <th>Performance</th>\n    </tr>\n  </thead>\n  <tbody>\n    <tr>\n      <th>0</th>\n      <td>WOODY HOFFMAN</td>\n      <td>15</td>\n    </tr>\n    <tr>\n      <th>1</th>\n      <td>ED CHASE</td>\n      <td>13</td>\n    </tr>\n    <tr>\n      <th>2</th>\n      <td>HELEN VOIGHT</td>\n      <td>13</td>\n    </tr>\n    <tr>\n      <th>3</th>\n      <td>JENNIFER DAVIS</td>\n      <td>13</td>\n    </tr>\n    <tr>\n      <th>4</th>\n      <td>JOHNNY LOLLOBRIGIDA</td>\n      <td>13</td>\n    </tr>\n    <tr>\n      <th>5</th>\n      <td>NICK WAHLBERG</td>\n      <td>13</td>\n    </tr>\n    <tr>\n      <th>6</th>\n      <td>SISSY SOBIESKI</td>\n      <td>13</td>\n    </tr>\n    <tr>\n      <th>7</th>\n      <td>BETTE NICHOLSON</td>\n      <td>12</td>\n    </tr>\n    <tr>\n      <th>8</th>\n      <td>BETTE NICHOLSON</td>\n      <td>12</td>\n    </tr>\n    <tr>\n      <th>9</th>\n      <td>ELVIS MARX</td>\n      <td>12</td>\n    </tr>\n    <tr>\n      <th>10</th>\n      <td>GRACE MOSTEL</td>\n      <td>12</td>\n    </tr>\n    <tr>\n      <th>11</th>\n      <td>KARL BERRY</td>\n      <td>12</td>\n    </tr>\n    <tr>\n      <th>12</th>\n      <td>RIP CRAWFORD</td>\n      <td>12</td>\n    </tr>\n    <tr>\n      <th>13</th>\n      <td>CUBA OLIVIER</td>\n      <td>11</td>\n    </tr>\n    <tr>\n      <th>14</th>\n      <td>CUBA OLIVIER</td>\n      <td>11</td>\n    </tr>\n    <tr>\n      <th>15</th>\n      <td>ED CHASE</td>\n      <td>11</td>\n    </tr>\n    <tr>\n      <th>16</th>\n      <td>ED CHASE</td>\n      <td>11</td>\n    </tr>\n    <tr>\n      <th>17</th>\n      <td>JENNIFER DAVIS</td>\n      <td>11</td>\n    </tr>\n    <tr>\n      <th>18</th>\n      <td>JENNIFER DAVIS</td>\n      <td>11</td>\n    </tr>\n    <tr>\n      <th>19</th>\n      <td>JOHNNY LOLLOBRIGIDA</td>\n      <td>11</td>\n    </tr>\n    <tr>\n      <th>20</th>\n      <td>JULIA MCQUEEN</td>\n      <td>11</td>\n    </tr>\n    <tr>\n      <th>21</th>\n      <td>KARL BERRY</td>\n      <td>11</td>\n    </tr>\n    <tr>\n      <th>22</th>\n      <td>KARL BERRY</td>\n      <td>11</td>\n    </tr>\n    <tr>\n      <th>23</th>\n      <td>KIRSTEN PALTROW</td>\n      <td>11</td>\n    </tr>\n    <tr>\n      <th>24</th>\n      <td>NICK WAHLBERG</td>\n      <td>11</td>\n    </tr>\n    <tr>\n      <th>25</th>\n      <td>SANDRA KILMER</td>\n      <td>11</td>\n    </tr>\n    <tr>\n      <th>26</th>\n      <td>TIM HACKMAN</td>\n      <td>11</td>\n    </tr>\n  </tbody>\n</table>\n</div>"
     },
     "execution_count": 144,
     "metadata": {},
     "output_type": "execute_result"
    }
   ],
   "source": [
    "pd.read_sql(\"\"\"\n",
    "\n",
    "SELECT\n",
    "    a.first_name ||' '|| a.last_name AS Name\n",
    "    ,COUNT(f.title) AS Performance\n",
    "FROM film_actor AS fa\n",
    "JOIN film as f\n",
    "ON fa.film_id = f.film_id\n",
    "\n",
    "JOIN actor as a\n",
    "ON fa.actor_id = a.actor_id\n",
    "GROUP BY f.title\n",
    "HAVING Performance > 10\n",
    "ORDER BY Performance DESC, Name ASC\n",
    "\n",
    "\"\"\", connection)"
   ],
   "metadata": {
    "collapsed": false,
    "pycharm": {
     "name": "#%%\n"
    }
   }
  },
  {
   "cell_type": "code",
   "execution_count": 152,
   "outputs": [
    {
     "data": {
      "text/plain": "       Rental_ID                 Title        Rent      Return  Hold_Period  \\\n0              1       BLANKET BEVERLY  2005-05-24  2005-05-26         1.97   \n1              2          FREAKY POCUS  2005-05-24  2005-05-28         3.87   \n2              3         GRADUATE LORD  2005-05-24  2005-06-01         7.96   \n3              4         LOVE SUICIDES  2005-05-24  2005-06-03         9.11   \n4              5       IDOLS SNATCHERS  2005-05-24  2005-06-02         8.23   \n...          ...                   ...         ...         ...          ...   \n15856      16045     COMANCHEROS ENEMY  2005-08-23  2005-08-25         2.06   \n15857      16046        VOYAGE LEGALLY  2005-08-23  2005-08-27         3.82   \n15858      16047       ILLUSION AMELIE  2005-08-23  2005-08-25         1.17   \n15859      16048  HUNCHBACK IMPOSSIBLE  2005-08-23  2005-08-31         7.95   \n15860      16049            MOB DUFFEL  2005-08-23  2005-08-30         6.09   \n\n       Rental_Duration  \n0                    7  \n1                    7  \n2                    7  \n3                    6  \n4                    5  \n...                ...  \n15856                5  \n15857                6  \n15858                4  \n15859                4  \n15860                4  \n\n[15861 rows x 6 columns]",
      "text/html": "<div>\n<style scoped>\n    .dataframe tbody tr th:only-of-type {\n        vertical-align: middle;\n    }\n\n    .dataframe tbody tr th {\n        vertical-align: top;\n    }\n\n    .dataframe thead th {\n        text-align: right;\n    }\n</style>\n<table border=\"1\" class=\"dataframe\">\n  <thead>\n    <tr style=\"text-align: right;\">\n      <th></th>\n      <th>Rental_ID</th>\n      <th>Title</th>\n      <th>Rent</th>\n      <th>Return</th>\n      <th>Hold_Period</th>\n      <th>Rental_Duration</th>\n    </tr>\n  </thead>\n  <tbody>\n    <tr>\n      <th>0</th>\n      <td>1</td>\n      <td>BLANKET BEVERLY</td>\n      <td>2005-05-24</td>\n      <td>2005-05-26</td>\n      <td>1.97</td>\n      <td>7</td>\n    </tr>\n    <tr>\n      <th>1</th>\n      <td>2</td>\n      <td>FREAKY POCUS</td>\n      <td>2005-05-24</td>\n      <td>2005-05-28</td>\n      <td>3.87</td>\n      <td>7</td>\n    </tr>\n    <tr>\n      <th>2</th>\n      <td>3</td>\n      <td>GRADUATE LORD</td>\n      <td>2005-05-24</td>\n      <td>2005-06-01</td>\n      <td>7.96</td>\n      <td>7</td>\n    </tr>\n    <tr>\n      <th>3</th>\n      <td>4</td>\n      <td>LOVE SUICIDES</td>\n      <td>2005-05-24</td>\n      <td>2005-06-03</td>\n      <td>9.11</td>\n      <td>6</td>\n    </tr>\n    <tr>\n      <th>4</th>\n      <td>5</td>\n      <td>IDOLS SNATCHERS</td>\n      <td>2005-05-24</td>\n      <td>2005-06-02</td>\n      <td>8.23</td>\n      <td>5</td>\n    </tr>\n    <tr>\n      <th>...</th>\n      <td>...</td>\n      <td>...</td>\n      <td>...</td>\n      <td>...</td>\n      <td>...</td>\n      <td>...</td>\n    </tr>\n    <tr>\n      <th>15856</th>\n      <td>16045</td>\n      <td>COMANCHEROS ENEMY</td>\n      <td>2005-08-23</td>\n      <td>2005-08-25</td>\n      <td>2.06</td>\n      <td>5</td>\n    </tr>\n    <tr>\n      <th>15857</th>\n      <td>16046</td>\n      <td>VOYAGE LEGALLY</td>\n      <td>2005-08-23</td>\n      <td>2005-08-27</td>\n      <td>3.82</td>\n      <td>6</td>\n    </tr>\n    <tr>\n      <th>15858</th>\n      <td>16047</td>\n      <td>ILLUSION AMELIE</td>\n      <td>2005-08-23</td>\n      <td>2005-08-25</td>\n      <td>1.17</td>\n      <td>4</td>\n    </tr>\n    <tr>\n      <th>15859</th>\n      <td>16048</td>\n      <td>HUNCHBACK IMPOSSIBLE</td>\n      <td>2005-08-23</td>\n      <td>2005-08-31</td>\n      <td>7.95</td>\n      <td>4</td>\n    </tr>\n    <tr>\n      <th>15860</th>\n      <td>16049</td>\n      <td>MOB DUFFEL</td>\n      <td>2005-08-23</td>\n      <td>2005-08-30</td>\n      <td>6.09</td>\n      <td>4</td>\n    </tr>\n  </tbody>\n</table>\n<p>15861 rows × 6 columns</p>\n</div>"
     },
     "execution_count": 152,
     "metadata": {},
     "output_type": "execute_result"
    }
   ],
   "source": [
    "pd.read_sql(\"\"\"\n",
    "SELECT\n",
    "    r.rental_id AS Rental_ID\n",
    "    ,f.title AS Title\n",
    "    ,strftime('%Y-%m-%d', r.rental_date) AS Rent\n",
    "    ,strftime('%Y-%m-%d', r.return_date) AS Return\n",
    "    ,ROUND(JULIANDAY(r.return_date) - JULIANDAY(r.rental_date), 2) AS Hold_Period\n",
    "    ,f.rental_duration AS Rental_Duration\n",
    "FROM rental AS r\n",
    "JOIN inventory AS i ON r.inventory_id = i.inventory_id\n",
    "JOIN film AS f ON i.film_id = f.film_id\n",
    "WHERE r.return_date IS NOT NULL;\n",
    "\n",
    "\"\"\", connection)"
   ],
   "metadata": {
    "collapsed": false,
    "pycharm": {
     "name": "#%%\n"
    }
   }
  },
  {
   "cell_type": "code",
   "execution_count": 160,
   "outputs": [
    {
     "data": {
      "text/plain": "      Rental_ID                Name                                 email  \\\n0             3     MURRELL, MANUEL     MANUEL.MURRELL@sakilacustomer.org   \n1             4       PURDY, ANDREW       ANDREW.PURDY@sakilacustomer.org   \n2             5     HANSEN, DELORES     DELORES.HANSEN@sakilacustomer.org   \n3             7  WALTERS, CASSANDRA  CASSANDRA.WALTERS@sakilacustomer.org   \n4            10         ISOM, DANNY         DANNY.ISOM@sakilacustomer.org   \n...         ...                 ...                                   ...   \n8101      16039          WOOD, LORI          LORI.WOOD@sakilacustomer.org   \n8102      16040       SIMS, VANESSA       VANESSA.SIMS@sakilacustomer.org   \n8103      16043          SEAL, KARL          KARL.SEAL@sakilacustomer.org   \n8104      16048    HAMILTON, GLADYS    GLADYS.HAMILTON@sakilacustomer.org   \n8105      16049      CAUSEY, PHILIP      PHILIP.CAUSEY@sakilacustomer.org   \n\n                      Film  Overdue_Days  \n0            GRADUATE LORD          0.96  \n1            LOVE SUICIDES          3.11  \n2          IDOLS SNATCHERS          3.23  \n3               SWARM GOLD          0.89  \n4             HANGING DEEP          1.95  \n...                    ...           ...  \n8101         CAPER MOTIONS          1.90  \n8102       SCORPION APOLLO          6.17  \n8103        STING PERSONAL          4.20  \n8104  HUNCHBACK IMPOSSIBLE          3.95  \n8105            MOB DUFFEL          2.09  \n\n[8106 rows x 5 columns]",
      "text/html": "<div>\n<style scoped>\n    .dataframe tbody tr th:only-of-type {\n        vertical-align: middle;\n    }\n\n    .dataframe tbody tr th {\n        vertical-align: top;\n    }\n\n    .dataframe thead th {\n        text-align: right;\n    }\n</style>\n<table border=\"1\" class=\"dataframe\">\n  <thead>\n    <tr style=\"text-align: right;\">\n      <th></th>\n      <th>Rental_ID</th>\n      <th>Name</th>\n      <th>email</th>\n      <th>Film</th>\n      <th>Overdue_Days</th>\n    </tr>\n  </thead>\n  <tbody>\n    <tr>\n      <th>0</th>\n      <td>3</td>\n      <td>MURRELL, MANUEL</td>\n      <td>MANUEL.MURRELL@sakilacustomer.org</td>\n      <td>GRADUATE LORD</td>\n      <td>0.96</td>\n    </tr>\n    <tr>\n      <th>1</th>\n      <td>4</td>\n      <td>PURDY, ANDREW</td>\n      <td>ANDREW.PURDY@sakilacustomer.org</td>\n      <td>LOVE SUICIDES</td>\n      <td>3.11</td>\n    </tr>\n    <tr>\n      <th>2</th>\n      <td>5</td>\n      <td>HANSEN, DELORES</td>\n      <td>DELORES.HANSEN@sakilacustomer.org</td>\n      <td>IDOLS SNATCHERS</td>\n      <td>3.23</td>\n    </tr>\n    <tr>\n      <th>3</th>\n      <td>7</td>\n      <td>WALTERS, CASSANDRA</td>\n      <td>CASSANDRA.WALTERS@sakilacustomer.org</td>\n      <td>SWARM GOLD</td>\n      <td>0.89</td>\n    </tr>\n    <tr>\n      <th>4</th>\n      <td>10</td>\n      <td>ISOM, DANNY</td>\n      <td>DANNY.ISOM@sakilacustomer.org</td>\n      <td>HANGING DEEP</td>\n      <td>1.95</td>\n    </tr>\n    <tr>\n      <th>...</th>\n      <td>...</td>\n      <td>...</td>\n      <td>...</td>\n      <td>...</td>\n      <td>...</td>\n    </tr>\n    <tr>\n      <th>8101</th>\n      <td>16039</td>\n      <td>WOOD, LORI</td>\n      <td>LORI.WOOD@sakilacustomer.org</td>\n      <td>CAPER MOTIONS</td>\n      <td>1.90</td>\n    </tr>\n    <tr>\n      <th>8102</th>\n      <td>16040</td>\n      <td>SIMS, VANESSA</td>\n      <td>VANESSA.SIMS@sakilacustomer.org</td>\n      <td>SCORPION APOLLO</td>\n      <td>6.17</td>\n    </tr>\n    <tr>\n      <th>8103</th>\n      <td>16043</td>\n      <td>SEAL, KARL</td>\n      <td>KARL.SEAL@sakilacustomer.org</td>\n      <td>STING PERSONAL</td>\n      <td>4.20</td>\n    </tr>\n    <tr>\n      <th>8104</th>\n      <td>16048</td>\n      <td>HAMILTON, GLADYS</td>\n      <td>GLADYS.HAMILTON@sakilacustomer.org</td>\n      <td>HUNCHBACK IMPOSSIBLE</td>\n      <td>3.95</td>\n    </tr>\n    <tr>\n      <th>8105</th>\n      <td>16049</td>\n      <td>CAUSEY, PHILIP</td>\n      <td>PHILIP.CAUSEY@sakilacustomer.org</td>\n      <td>MOB DUFFEL</td>\n      <td>2.09</td>\n    </tr>\n  </tbody>\n</table>\n<p>8106 rows × 5 columns</p>\n</div>"
     },
     "execution_count": 160,
     "metadata": {},
     "output_type": "execute_result"
    }
   ],
   "source": [
    "pd.read_sql(\"\"\"\n",
    "SELECT\n",
    "    r.rental_id AS Rental_ID\n",
    "    ,c.last_name || ', '|| c.first_name AS Name\n",
    "    ,c.email\n",
    "    ,f.title AS Film\n",
    "    ,ROUND(JULIANDAY(r.return_date) - JULIANDAY(r.rental_date),2) - f.rental_duration AS Overdue_Days\n",
    "FROM rental AS r\n",
    "JOIN inventory AS i ON r.inventory_id = i.inventory_id\n",
    "JOIN film AS f ON i.film_id = f.film_id\n",
    "JOIN customer AS c ON r.customer_id = c.customer_id\n",
    "WHERE r.return_date IS NOT NULL\n",
    "AND Overdue_Days >0;\n",
    "\n",
    "\n",
    "\"\"\", connection)"
   ],
   "metadata": {
    "collapsed": false,
    "pycharm": {
     "name": "#%%\n"
    }
   }
  },
  {
   "cell_type": "code",
   "execution_count": 163,
   "outputs": [
    {
     "data": {
      "text/plain": "     Customer_ID              Name                                email  \\\n0            295       BATES DAISY       DAISY.BATES@sakilacustomer.org   \n1            137    KENNEDY RHONDA    RHONDA.KENNEDY@sakilacustomer.org   \n2            526         SEAL KARL         KARL.SEAL@sakilacustomer.org   \n3            148      HUNT ELEANOR      ELEANOR.HUNT@sakilacustomer.org   \n4            469       BULL WESLEY       WESLEY.BULL@sakilacustomer.org   \n..           ...               ...                                  ...   \n594          378  CULPEPPER EUGENE  EUGENE.CULPEPPER@sakilacustomer.org   \n595           97     RUSSELL ANNIE     ANNIE.RUSSELL@sakilacustomer.org   \n596          586      STCLAIR KIRK      KIRK.STCLAIR@sakilacustomer.org   \n597          395     TURPIN JOHNNY     JOHNNY.TURPIN@sakilacustomer.org   \n598          413        YEE MARVIN        MARVIN.YEE@sakilacustomer.org   \n\n     Overdue_Count  \n0               28  \n1               27  \n2               27  \n3               25  \n4               24  \n..             ...  \n594              5  \n595              5  \n596              5  \n597              4  \n598              3  \n\n[599 rows x 4 columns]",
      "text/html": "<div>\n<style scoped>\n    .dataframe tbody tr th:only-of-type {\n        vertical-align: middle;\n    }\n\n    .dataframe tbody tr th {\n        vertical-align: top;\n    }\n\n    .dataframe thead th {\n        text-align: right;\n    }\n</style>\n<table border=\"1\" class=\"dataframe\">\n  <thead>\n    <tr style=\"text-align: right;\">\n      <th></th>\n      <th>Customer_ID</th>\n      <th>Name</th>\n      <th>email</th>\n      <th>Overdue_Count</th>\n    </tr>\n  </thead>\n  <tbody>\n    <tr>\n      <th>0</th>\n      <td>295</td>\n      <td>BATES DAISY</td>\n      <td>DAISY.BATES@sakilacustomer.org</td>\n      <td>28</td>\n    </tr>\n    <tr>\n      <th>1</th>\n      <td>137</td>\n      <td>KENNEDY RHONDA</td>\n      <td>RHONDA.KENNEDY@sakilacustomer.org</td>\n      <td>27</td>\n    </tr>\n    <tr>\n      <th>2</th>\n      <td>526</td>\n      <td>SEAL KARL</td>\n      <td>KARL.SEAL@sakilacustomer.org</td>\n      <td>27</td>\n    </tr>\n    <tr>\n      <th>3</th>\n      <td>148</td>\n      <td>HUNT ELEANOR</td>\n      <td>ELEANOR.HUNT@sakilacustomer.org</td>\n      <td>25</td>\n    </tr>\n    <tr>\n      <th>4</th>\n      <td>469</td>\n      <td>BULL WESLEY</td>\n      <td>WESLEY.BULL@sakilacustomer.org</td>\n      <td>24</td>\n    </tr>\n    <tr>\n      <th>...</th>\n      <td>...</td>\n      <td>...</td>\n      <td>...</td>\n      <td>...</td>\n    </tr>\n    <tr>\n      <th>594</th>\n      <td>378</td>\n      <td>CULPEPPER EUGENE</td>\n      <td>EUGENE.CULPEPPER@sakilacustomer.org</td>\n      <td>5</td>\n    </tr>\n    <tr>\n      <th>595</th>\n      <td>97</td>\n      <td>RUSSELL ANNIE</td>\n      <td>ANNIE.RUSSELL@sakilacustomer.org</td>\n      <td>5</td>\n    </tr>\n    <tr>\n      <th>596</th>\n      <td>586</td>\n      <td>STCLAIR KIRK</td>\n      <td>KIRK.STCLAIR@sakilacustomer.org</td>\n      <td>5</td>\n    </tr>\n    <tr>\n      <th>597</th>\n      <td>395</td>\n      <td>TURPIN JOHNNY</td>\n      <td>JOHNNY.TURPIN@sakilacustomer.org</td>\n      <td>4</td>\n    </tr>\n    <tr>\n      <th>598</th>\n      <td>413</td>\n      <td>YEE MARVIN</td>\n      <td>MARVIN.YEE@sakilacustomer.org</td>\n      <td>3</td>\n    </tr>\n  </tbody>\n</table>\n<p>599 rows × 4 columns</p>\n</div>"
     },
     "execution_count": 163,
     "metadata": {},
     "output_type": "execute_result"
    }
   ],
   "source": [
    "pd.read_sql(\"\"\"\n",
    "SELECT\n",
    "    c.customer_id AS Customer_ID\n",
    "    ,c.last_name ||' ' || c.first_name AS Name\n",
    "    ,c.email\n",
    "    ,COUNT(*) AS Overdue_Count\n",
    "FROM rental AS r\n",
    "JOIN inventory AS i ON r.inventory_id = i.inventory_id\n",
    "JOIN film AS f ON i.film_id = f.film_id\n",
    "JOIN customer AS c ON r.customer_id = c.customer_id\n",
    "WHERE r.return_date IS NOT NULL\n",
    "AND ROUND(JULIANDAY(r.return_date) - JULIANDAY(r.rental_date), 2) -f.rental_duration > 0\n",
    "GROUP BY Name\n",
    "ORDER BY Overdue_Count DESC, Name ASC;\n",
    "\n",
    "\"\"\", connection)"
   ],
   "metadata": {
    "collapsed": false,
    "pycharm": {
     "name": "#%%\n"
    }
   }
  },
  {
   "cell_type": "code",
   "execution_count": 166,
   "outputs": [
    {
     "data": {
      "text/plain": "     Customer_ID              Name  Total_Count\n0            148      HUNT ELEANOR           46\n1            526         SEAL KARL           45\n2            144        SHAW CLARA           42\n3            236       DEAN MARCIA           41\n4            197        PETERS SUE           40\n..           ...               ...          ...\n594          248   BOWMAN CAROLINE           15\n595           61  RIVERA KATHERINE           14\n596          110    JORDAN TIFFANY           14\n597          281      OBRIEN LEONA           14\n598          318       WYMAN BRIAN           12\n\n[599 rows x 3 columns]",
      "text/html": "<div>\n<style scoped>\n    .dataframe tbody tr th:only-of-type {\n        vertical-align: middle;\n    }\n\n    .dataframe tbody tr th {\n        vertical-align: top;\n    }\n\n    .dataframe thead th {\n        text-align: right;\n    }\n</style>\n<table border=\"1\" class=\"dataframe\">\n  <thead>\n    <tr style=\"text-align: right;\">\n      <th></th>\n      <th>Customer_ID</th>\n      <th>Name</th>\n      <th>Total_Count</th>\n    </tr>\n  </thead>\n  <tbody>\n    <tr>\n      <th>0</th>\n      <td>148</td>\n      <td>HUNT ELEANOR</td>\n      <td>46</td>\n    </tr>\n    <tr>\n      <th>1</th>\n      <td>526</td>\n      <td>SEAL KARL</td>\n      <td>45</td>\n    </tr>\n    <tr>\n      <th>2</th>\n      <td>144</td>\n      <td>SHAW CLARA</td>\n      <td>42</td>\n    </tr>\n    <tr>\n      <th>3</th>\n      <td>236</td>\n      <td>DEAN MARCIA</td>\n      <td>41</td>\n    </tr>\n    <tr>\n      <th>4</th>\n      <td>197</td>\n      <td>PETERS SUE</td>\n      <td>40</td>\n    </tr>\n    <tr>\n      <th>...</th>\n      <td>...</td>\n      <td>...</td>\n      <td>...</td>\n    </tr>\n    <tr>\n      <th>594</th>\n      <td>248</td>\n      <td>BOWMAN CAROLINE</td>\n      <td>15</td>\n    </tr>\n    <tr>\n      <th>595</th>\n      <td>61</td>\n      <td>RIVERA KATHERINE</td>\n      <td>14</td>\n    </tr>\n    <tr>\n      <th>596</th>\n      <td>110</td>\n      <td>JORDAN TIFFANY</td>\n      <td>14</td>\n    </tr>\n    <tr>\n      <th>597</th>\n      <td>281</td>\n      <td>OBRIEN LEONA</td>\n      <td>14</td>\n    </tr>\n    <tr>\n      <th>598</th>\n      <td>318</td>\n      <td>WYMAN BRIAN</td>\n      <td>12</td>\n    </tr>\n  </tbody>\n</table>\n<p>599 rows × 3 columns</p>\n</div>"
     },
     "execution_count": 166,
     "metadata": {},
     "output_type": "execute_result"
    }
   ],
   "source": [
    "pd.read_sql(\"\"\"\n",
    "SELECT\n",
    "    customer.customer_id AS Customer_ID\n",
    "    ,customer.last_name ||' ' || customer.first_name AS Name\n",
    "    ,COUNT(*) AS Total_Count\n",
    "FROM rental\n",
    "JOIN customer ON rental.customer_id = customer.customer_id\n",
    "WHERE return_date IS NOT NULL\n",
    "GROUP BY rental.customer_id\n",
    "ORDER BY Total_Count DESC;\n",
    "\n",
    "\"\"\", connection)"
   ],
   "metadata": {
    "collapsed": false,
    "pycharm": {
     "name": "#%%\n"
    }
   }
  },
  {
   "cell_type": "code",
   "execution_count": 172,
   "outputs": [
    {
     "data": {
      "text/plain": "                   Name                                  email  \\\n0         SCHULER KEVIN       KEVIN.SCHULER@sakilacustomer.org   \n1       MCCARTNEY JESUS     JESUS.MCCARTNEY@sakilacustomer.org   \n2         TIRADO LONNIE       LONNIE.TIRADO@sakilacustomer.org   \n3           BATES DAISY         DAISY.BATES@sakilacustomer.org   \n4          MEEK ANTONIO        ANTONIO.MEEK@sakilacustomer.org   \n..                  ...                                    ...   \n594    CULPEPPER EUGENE    EUGENE.CULPEPPER@sakilacustomer.org   \n595        STCLAIR KIRK        KIRK.STCLAIR@sakilacustomer.org   \n596  CHRISTENSON NELSON  NELSON.CHRISTENSON@sakilacustomer.org   \n597       TURPIN JOHNNY       JOHNNY.TURPIN@sakilacustomer.org   \n598          YEE MARVIN          MARVIN.YEE@sakilacustomer.org   \n\n     Percent_Overdue  \n0               0.86  \n1               0.83  \n2               0.78  \n3               0.76  \n4               0.75  \n..               ...  \n594             0.26  \n595             0.26  \n596             0.25  \n597             0.21  \n598             0.14  \n\n[599 rows x 3 columns]",
      "text/html": "<div>\n<style scoped>\n    .dataframe tbody tr th:only-of-type {\n        vertical-align: middle;\n    }\n\n    .dataframe tbody tr th {\n        vertical-align: top;\n    }\n\n    .dataframe thead th {\n        text-align: right;\n    }\n</style>\n<table border=\"1\" class=\"dataframe\">\n  <thead>\n    <tr style=\"text-align: right;\">\n      <th></th>\n      <th>Name</th>\n      <th>email</th>\n      <th>Percent_Overdue</th>\n    </tr>\n  </thead>\n  <tbody>\n    <tr>\n      <th>0</th>\n      <td>SCHULER KEVIN</td>\n      <td>KEVIN.SCHULER@sakilacustomer.org</td>\n      <td>0.86</td>\n    </tr>\n    <tr>\n      <th>1</th>\n      <td>MCCARTNEY JESUS</td>\n      <td>JESUS.MCCARTNEY@sakilacustomer.org</td>\n      <td>0.83</td>\n    </tr>\n    <tr>\n      <th>2</th>\n      <td>TIRADO LONNIE</td>\n      <td>LONNIE.TIRADO@sakilacustomer.org</td>\n      <td>0.78</td>\n    </tr>\n    <tr>\n      <th>3</th>\n      <td>BATES DAISY</td>\n      <td>DAISY.BATES@sakilacustomer.org</td>\n      <td>0.76</td>\n    </tr>\n    <tr>\n      <th>4</th>\n      <td>MEEK ANTONIO</td>\n      <td>ANTONIO.MEEK@sakilacustomer.org</td>\n      <td>0.75</td>\n    </tr>\n    <tr>\n      <th>...</th>\n      <td>...</td>\n      <td>...</td>\n      <td>...</td>\n    </tr>\n    <tr>\n      <th>594</th>\n      <td>CULPEPPER EUGENE</td>\n      <td>EUGENE.CULPEPPER@sakilacustomer.org</td>\n      <td>0.26</td>\n    </tr>\n    <tr>\n      <th>595</th>\n      <td>STCLAIR KIRK</td>\n      <td>KIRK.STCLAIR@sakilacustomer.org</td>\n      <td>0.26</td>\n    </tr>\n    <tr>\n      <th>596</th>\n      <td>CHRISTENSON NELSON</td>\n      <td>NELSON.CHRISTENSON@sakilacustomer.org</td>\n      <td>0.25</td>\n    </tr>\n    <tr>\n      <th>597</th>\n      <td>TURPIN JOHNNY</td>\n      <td>JOHNNY.TURPIN@sakilacustomer.org</td>\n      <td>0.21</td>\n    </tr>\n    <tr>\n      <th>598</th>\n      <td>YEE MARVIN</td>\n      <td>MARVIN.YEE@sakilacustomer.org</td>\n      <td>0.14</td>\n    </tr>\n  </tbody>\n</table>\n<p>599 rows × 3 columns</p>\n</div>"
     },
     "execution_count": 172,
     "metadata": {},
     "output_type": "execute_result"
    }
   ],
   "source": [
    "pd.read_sql(\"\"\"\n",
    "SELECT\n",
    "    Overdue_Table.Name\n",
    "    ,Overdue_Table.email\n",
    "    ,ROUND(Overdue_Table.Overdue_Count * 1.0 / Total_Table.Total_Count, 2) AS Percent_Overdue\n",
    "\n",
    "-- FIRST TABLE\n",
    "FROM (SELECT\n",
    "    customer.customer_id AS Customer_ID\n",
    "    ,COUNT(*) AS Total_Count\n",
    "FROM rental\n",
    "JOIN customer ON rental.customer_id = customer.customer_id\n",
    "WHERE return_date IS NOT NULL\n",
    "GROUP BY rental.customer_id\n",
    "ORDER BY Total_Count DESC) AS Total_Table\n",
    "\n",
    "-- SECOND TABLE\n",
    "JOIN (SELECT\n",
    "    c.customer_id AS Customer_ID\n",
    "    ,c.last_name ||' '|| c.first_name AS Name\n",
    "    ,c.email\n",
    "    ,COUNT (*) AS Overdue_Count\n",
    "FROM rental AS r\n",
    "JOIN inventory AS i ON r.inventory_id = i.inventory_id\n",
    "JOIN film AS f ON i.film_id = f.film_id\n",
    "JOIN customer as c ON r.customer_id = c.customer_id\n",
    "WHERE r.return_date IS NOT NULL\n",
    "AND ROUND(JULIANDAY(r.return_date) - JULIANDAY(r.rental_date), 2) - f.rental_duration > 0\n",
    "GROUP BY Name\n",
    "ORDER BY Overdue_Count DESC, Name ASC) AS Overdue_Table\n",
    "ON Total_Table.Customer_ID = Overdue_Table.Customer_ID\n",
    "ORDER BY Percent_Overdue DESC;\n",
    "\n",
    "\n",
    "\n",
    "\"\"\", connection)"
   ],
   "metadata": {
    "collapsed": false,
    "pycharm": {
     "name": "#%%\n"
    }
   }
  },
  {
   "cell_type": "code",
   "execution_count": 174,
   "outputs": [
    {
     "data": {
      "text/plain": "   rental_id  Count_Payments\n0        NaN               5\n1    16049.0               1\n2    16048.0               1\n3    16047.0               1\n4    16046.0               1\n5    16045.0               1\n6    16044.0               1\n7    16043.0               1\n8    16042.0               1\n9    16041.0               1",
      "text/html": "<div>\n<style scoped>\n    .dataframe tbody tr th:only-of-type {\n        vertical-align: middle;\n    }\n\n    .dataframe tbody tr th {\n        vertical-align: top;\n    }\n\n    .dataframe thead th {\n        text-align: right;\n    }\n</style>\n<table border=\"1\" class=\"dataframe\">\n  <thead>\n    <tr style=\"text-align: right;\">\n      <th></th>\n      <th>rental_id</th>\n      <th>Count_Payments</th>\n    </tr>\n  </thead>\n  <tbody>\n    <tr>\n      <th>0</th>\n      <td>NaN</td>\n      <td>5</td>\n    </tr>\n    <tr>\n      <th>1</th>\n      <td>16049.0</td>\n      <td>1</td>\n    </tr>\n    <tr>\n      <th>2</th>\n      <td>16048.0</td>\n      <td>1</td>\n    </tr>\n    <tr>\n      <th>3</th>\n      <td>16047.0</td>\n      <td>1</td>\n    </tr>\n    <tr>\n      <th>4</th>\n      <td>16046.0</td>\n      <td>1</td>\n    </tr>\n    <tr>\n      <th>5</th>\n      <td>16045.0</td>\n      <td>1</td>\n    </tr>\n    <tr>\n      <th>6</th>\n      <td>16044.0</td>\n      <td>1</td>\n    </tr>\n    <tr>\n      <th>7</th>\n      <td>16043.0</td>\n      <td>1</td>\n    </tr>\n    <tr>\n      <th>8</th>\n      <td>16042.0</td>\n      <td>1</td>\n    </tr>\n    <tr>\n      <th>9</th>\n      <td>16041.0</td>\n      <td>1</td>\n    </tr>\n  </tbody>\n</table>\n</div>"
     },
     "execution_count": 174,
     "metadata": {},
     "output_type": "execute_result"
    }
   ],
   "source": [
    "pd.read_sql(\"\"\"\n",
    "\n",
    "SELECT\n",
    "    r.rental_id\n",
    "    ,COUNT(*) AS Count_Payments\n",
    "FROM payment AS p\n",
    "LEFT JOIN rental AS r\n",
    "ON p.rental_id = r.rental_id\n",
    "GROUP BY p.rental_id\n",
    "ORDER BY Count_Payments DESC\n",
    "LIMIT 10;\n",
    "\n",
    "\"\"\", connection)"
   ],
   "metadata": {
    "collapsed": false,
    "pycharm": {
     "name": "#%%\n"
    }
   }
  },
  {
   "cell_type": "code",
   "execution_count": 176,
   "outputs": [
    {
     "data": {
      "text/plain": "      Date    Sales\n0  2005-05   4824.0\n1  2005-06   9632.0\n2  2005-07  28374.0\n3  2005-08  24072.0\n4  2006-02    514.0",
      "text/html": "<div>\n<style scoped>\n    .dataframe tbody tr th:only-of-type {\n        vertical-align: middle;\n    }\n\n    .dataframe tbody tr th {\n        vertical-align: top;\n    }\n\n    .dataframe thead th {\n        text-align: right;\n    }\n</style>\n<table border=\"1\" class=\"dataframe\">\n  <thead>\n    <tr style=\"text-align: right;\">\n      <th></th>\n      <th>Date</th>\n      <th>Sales</th>\n    </tr>\n  </thead>\n  <tbody>\n    <tr>\n      <th>0</th>\n      <td>2005-05</td>\n      <td>4824.0</td>\n    </tr>\n    <tr>\n      <th>1</th>\n      <td>2005-06</td>\n      <td>9632.0</td>\n    </tr>\n    <tr>\n      <th>2</th>\n      <td>2005-07</td>\n      <td>28374.0</td>\n    </tr>\n    <tr>\n      <th>3</th>\n      <td>2005-08</td>\n      <td>24072.0</td>\n    </tr>\n    <tr>\n      <th>4</th>\n      <td>2006-02</td>\n      <td>514.0</td>\n    </tr>\n  </tbody>\n</table>\n</div>"
     },
     "execution_count": 176,
     "metadata": {},
     "output_type": "execute_result"
    }
   ],
   "source": [
    "sales_per_month = pd.read_sql(\"\"\"\n",
    "\n",
    "SELECT\n",
    "    strftime('%Y-%m', payment_date) AS Date\n",
    "    ,ROUND(SUM(amount), 0) AS Sales\n",
    "FROM payment\n",
    "GROUP BY Date\n",
    "ORDER BY Date ASC\n",
    "\n",
    "\"\"\", connection)\n",
    "\n",
    "sales_per_month"
   ],
   "metadata": {
    "collapsed": false,
    "pycharm": {
     "name": "#%%\n"
    }
   }
  },
  {
   "cell_type": "code",
   "execution_count": 177,
   "outputs": [],
   "source": [
    "sales_per_month = sales_per_month.iloc[0:4].set_index(\"Date\")"
   ],
   "metadata": {
    "collapsed": false,
    "pycharm": {
     "name": "#%%\n"
    }
   }
  },
  {
   "cell_type": "code",
   "execution_count": 178,
   "outputs": [
    {
     "data": {
      "text/plain": "<Figure size 720x360 with 1 Axes>",
      "image/png": "[encoded data removed]"
     },
     "metadata": {
      "needs_background": "light"
     },
     "output_type": "display_data"
    }
   ],
   "source": [
    "fig, ax = plt.subplots(figsize = (10,5))\n",
    "ax.plot(sales_per_month,\"bo-\")\n",
    "ax.set_ylim(ymin = 0, ymax = 32000)\n",
    "ax.set_title(\"Sales Per Month\")\n",
    "ax.set_ylabel(\"Sales\")\n",
    "\n",
    "for date, sales in sales_per_month[\"Sales\"].items():\n",
    "    ax.annotate(str(\"${:,.0f}\".format(sales)),\n",
    "                xy=(date, sales+1000),\n",
    "               fontweight = \"semibold\",\n",
    "               fontsize = 12)\n",
    "\n",
    "plt.show()"
   ],
   "metadata": {
    "collapsed": false,
    "pycharm": {
     "name": "#%%\n"
    }
   }
  },
  {
   "cell_type": "code",
   "execution_count": 180,
   "outputs": [
    {
     "data": {
      "text/plain": "            Sales\nstore_id         \n1         33489.0\n2         33927.0",
      "text/html": "<div>\n<style scoped>\n    .dataframe tbody tr th:only-of-type {\n        vertical-align: middle;\n    }\n\n    .dataframe tbody tr th {\n        vertical-align: top;\n    }\n\n    .dataframe thead th {\n        text-align: right;\n    }\n</style>\n<table border=\"1\" class=\"dataframe\">\n  <thead>\n    <tr style=\"text-align: right;\">\n      <th></th>\n      <th>Sales</th>\n    </tr>\n    <tr>\n      <th>store_id</th>\n      <th></th>\n    </tr>\n  </thead>\n  <tbody>\n    <tr>\n      <th>1</th>\n      <td>33489.0</td>\n    </tr>\n    <tr>\n      <th>2</th>\n      <td>33927.0</td>\n    </tr>\n  </tbody>\n</table>\n</div>"
     },
     "execution_count": 180,
     "metadata": {},
     "output_type": "execute_result"
    }
   ],
   "source": [
    "sales_per_store = pd.read_sql(\"\"\"\n",
    "\n",
    "SELECT\n",
    "    s.store_id\n",
    "    ,ROUND(SUM(p.amount), 0) AS Sales\n",
    "FROM payment AS p\n",
    "JOIN staff AS s\n",
    "ON p.staff_id = s.staff_id\n",
    "GROUP BY p.staff_id\n",
    "\n",
    "\"\"\", connection).set_index(\"store_id\")\n",
    "\n",
    "sales_per_store"
   ],
   "metadata": {
    "collapsed": false,
    "pycharm": {
     "name": "#%%\n"
    }
   }
  },
  {
   "cell_type": "code",
   "execution_count": 181,
   "outputs": [
    {
     "data": {
      "text/plain": "<Figure size 720x360 with 1 Axes>",
      "image/png": "[encoded data removed]"
     },
     "metadata": {},
     "output_type": "display_data"
    }
   ],
   "source": [
    "plt.style.use(\"seaborn\")\n",
    "fig, ax = plt.subplots(figsize = (10,5))\n",
    "\n",
    "def func(pct, allvals):\n",
    "    absolute = int(pct/100.*np.sum(allvals))\n",
    "    return \"${:,.0f}\\n({:.1f}%)\".format(absolute, pct)\n",
    "\n",
    "\n",
    "wedges, texts, autotexts = ax.pie(sales_per_store[\"Sales\"],\n",
    "       labels = sales_per_store.index,\n",
    "       autopct=lambda pct: func(pct, sales_per_store[\"Sales\"]),\n",
    "       textprops=dict(color=\"w\", fontsize = 15, fontweight = \"semibold\"))\n",
    "ax.legend(wedges, sales_per_store.index,\n",
    "          title=\"Store\",\n",
    "          fontsize = 12,\n",
    "          loc=\"center left\",\n",
    "          bbox_to_anchor=(1, 0.2, 0.5, 1))\n",
    "ax.set_title(\"Sales Per Store\", fontsize = 18)\n",
    "plt.rcParams['legend.title_fontsize'] = 18\n",
    "\n",
    "\n",
    "plt.show()"
   ],
   "metadata": {
    "collapsed": false,
    "pycharm": {
     "name": "#%%\n"
    }
   }
  },
  {
   "cell_type": "code",
   "execution_count": 183,
   "outputs": [
    {
     "data": {
      "text/plain": "   inventory_id  film_id\n0             1        1\n1             2        1\n2             3        1\n3             4        1\n4             5        1\n5             6        1\n6             7        1\n7             8        1\n8             9        2\n9            10        2",
      "text/html": "<div>\n<style scoped>\n    .dataframe tbody tr th:only-of-type {\n        vertical-align: middle;\n    }\n\n    .dataframe tbody tr th {\n        vertical-align: top;\n    }\n\n    .dataframe thead th {\n        text-align: right;\n    }\n</style>\n<table border=\"1\" class=\"dataframe\">\n  <thead>\n    <tr style=\"text-align: right;\">\n      <th></th>\n      <th>inventory_id</th>\n      <th>film_id</th>\n    </tr>\n  </thead>\n  <tbody>\n    <tr>\n      <th>0</th>\n      <td>1</td>\n      <td>1</td>\n    </tr>\n    <tr>\n      <th>1</th>\n      <td>2</td>\n      <td>1</td>\n    </tr>\n    <tr>\n      <th>2</th>\n      <td>3</td>\n      <td>1</td>\n    </tr>\n    <tr>\n      <th>3</th>\n      <td>4</td>\n      <td>1</td>\n    </tr>\n    <tr>\n      <th>4</th>\n      <td>5</td>\n      <td>1</td>\n    </tr>\n    <tr>\n      <th>5</th>\n      <td>6</td>\n      <td>1</td>\n    </tr>\n    <tr>\n      <th>6</th>\n      <td>7</td>\n      <td>1</td>\n    </tr>\n    <tr>\n      <th>7</th>\n      <td>8</td>\n      <td>1</td>\n    </tr>\n    <tr>\n      <th>8</th>\n      <td>9</td>\n      <td>2</td>\n    </tr>\n    <tr>\n      <th>9</th>\n      <td>10</td>\n      <td>2</td>\n    </tr>\n  </tbody>\n</table>\n</div>"
     },
     "execution_count": 183,
     "metadata": {},
     "output_type": "execute_result"
    }
   ],
   "source": [
    "table1 = pd.read_sql(\"\"\"\n",
    "\n",
    "SELECT\n",
    "    inventory_id\n",
    "    ,film_id\n",
    "FROM inventory;\n",
    "\n",
    "\"\"\", connection)\n",
    "\n",
    "table1.head(10)"
   ],
   "metadata": {
    "collapsed": false,
    "pycharm": {
     "name": "#%%\n"
    }
   }
  },
  {
   "cell_type": "code",
   "execution_count": 185,
   "outputs": [
    {
     "data": {
      "text/plain": "     film_id                 Title\n0          1      ACADEMY DINOSAUR\n1          6          AGENT TRUMAN\n2         12        ALASKA PHANTOM\n3         13           ALI FOREVER\n4         19          AMADEUS HOLY\n..       ...                   ...\n189      980    WIZARD COLDBLOODED\n190      983             WON DARES\n191      985  WONDERLAND CHRISTMAS\n192      987          WORDS HUNTER\n193      991          WORST BANGER\n\n[194 rows x 2 columns]",
      "text/html": "<div>\n<style scoped>\n    .dataframe tbody tr th:only-of-type {\n        vertical-align: middle;\n    }\n\n    .dataframe tbody tr th {\n        vertical-align: top;\n    }\n\n    .dataframe thead th {\n        text-align: right;\n    }\n</style>\n<table border=\"1\" class=\"dataframe\">\n  <thead>\n    <tr style=\"text-align: right;\">\n      <th></th>\n      <th>film_id</th>\n      <th>Title</th>\n    </tr>\n  </thead>\n  <tbody>\n    <tr>\n      <th>0</th>\n      <td>1</td>\n      <td>ACADEMY DINOSAUR</td>\n    </tr>\n    <tr>\n      <th>1</th>\n      <td>6</td>\n      <td>AGENT TRUMAN</td>\n    </tr>\n    <tr>\n      <th>2</th>\n      <td>12</td>\n      <td>ALASKA PHANTOM</td>\n    </tr>\n    <tr>\n      <th>3</th>\n      <td>13</td>\n      <td>ALI FOREVER</td>\n    </tr>\n    <tr>\n      <th>4</th>\n      <td>19</td>\n      <td>AMADEUS HOLY</td>\n    </tr>\n    <tr>\n      <th>...</th>\n      <td>...</td>\n      <td>...</td>\n    </tr>\n    <tr>\n      <th>189</th>\n      <td>980</td>\n      <td>WIZARD COLDBLOODED</td>\n    </tr>\n    <tr>\n      <th>190</th>\n      <td>983</td>\n      <td>WON DARES</td>\n    </tr>\n    <tr>\n      <th>191</th>\n      <td>985</td>\n      <td>WONDERLAND CHRISTMAS</td>\n    </tr>\n    <tr>\n      <th>192</th>\n      <td>987</td>\n      <td>WORDS HUNTER</td>\n    </tr>\n    <tr>\n      <th>193</th>\n      <td>991</td>\n      <td>WORST BANGER</td>\n    </tr>\n  </tbody>\n</table>\n<p>194 rows × 2 columns</p>\n</div>"
     },
     "execution_count": 185,
     "metadata": {},
     "output_type": "execute_result"
    }
   ],
   "source": [
    "table2 = pd.read_sql(\"\"\"\n",
    "\n",
    "SELECT\n",
    "    film_id\n",
    "    ,title AS Title\n",
    "FROM film\n",
    "WHERE rating = 'PG';\n",
    "\n",
    "\"\"\", connection)\n",
    "\n",
    "table2"
   ],
   "metadata": {
    "collapsed": false,
    "pycharm": {
     "name": "#%%\n"
    }
   }
  },
  {
   "cell_type": "code",
   "execution_count": 186,
   "outputs": [
    {
     "data": {
      "text/plain": "    inventory_id             Title\n0              1  ACADEMY DINOSAUR\n1              2  ACADEMY DINOSAUR\n2              3  ACADEMY DINOSAUR\n3              4  ACADEMY DINOSAUR\n4              5  ACADEMY DINOSAUR\n5              6  ACADEMY DINOSAUR\n6              7  ACADEMY DINOSAUR\n7              8  ACADEMY DINOSAUR\n8             26      AGENT TRUMAN\n9             27      AGENT TRUMAN\n10            28      AGENT TRUMAN\n11            29      AGENT TRUMAN\n12            30      AGENT TRUMAN\n13            31      AGENT TRUMAN\n14            60    ALASKA PHANTOM\n15            61    ALASKA PHANTOM\n16            62    ALASKA PHANTOM\n17            63    ALASKA PHANTOM\n18            64    ALASKA PHANTOM\n19            65    ALASKA PHANTOM",
      "text/html": "<div>\n<style scoped>\n    .dataframe tbody tr th:only-of-type {\n        vertical-align: middle;\n    }\n\n    .dataframe tbody tr th {\n        vertical-align: top;\n    }\n\n    .dataframe thead th {\n        text-align: right;\n    }\n</style>\n<table border=\"1\" class=\"dataframe\">\n  <thead>\n    <tr style=\"text-align: right;\">\n      <th></th>\n      <th>inventory_id</th>\n      <th>Title</th>\n    </tr>\n  </thead>\n  <tbody>\n    <tr>\n      <th>0</th>\n      <td>1</td>\n      <td>ACADEMY DINOSAUR</td>\n    </tr>\n    <tr>\n      <th>1</th>\n      <td>2</td>\n      <td>ACADEMY DINOSAUR</td>\n    </tr>\n    <tr>\n      <th>2</th>\n      <td>3</td>\n      <td>ACADEMY DINOSAUR</td>\n    </tr>\n    <tr>\n      <th>3</th>\n      <td>4</td>\n      <td>ACADEMY DINOSAUR</td>\n    </tr>\n    <tr>\n      <th>4</th>\n      <td>5</td>\n      <td>ACADEMY DINOSAUR</td>\n    </tr>\n    <tr>\n      <th>5</th>\n      <td>6</td>\n      <td>ACADEMY DINOSAUR</td>\n    </tr>\n    <tr>\n      <th>6</th>\n      <td>7</td>\n      <td>ACADEMY DINOSAUR</td>\n    </tr>\n    <tr>\n      <th>7</th>\n      <td>8</td>\n      <td>ACADEMY DINOSAUR</td>\n    </tr>\n    <tr>\n      <th>8</th>\n      <td>26</td>\n      <td>AGENT TRUMAN</td>\n    </tr>\n    <tr>\n      <th>9</th>\n      <td>27</td>\n      <td>AGENT TRUMAN</td>\n    </tr>\n    <tr>\n      <th>10</th>\n      <td>28</td>\n      <td>AGENT TRUMAN</td>\n    </tr>\n    <tr>\n      <th>11</th>\n      <td>29</td>\n      <td>AGENT TRUMAN</td>\n    </tr>\n    <tr>\n      <th>12</th>\n      <td>30</td>\n      <td>AGENT TRUMAN</td>\n    </tr>\n    <tr>\n      <th>13</th>\n      <td>31</td>\n      <td>AGENT TRUMAN</td>\n    </tr>\n    <tr>\n      <th>14</th>\n      <td>60</td>\n      <td>ALASKA PHANTOM</td>\n    </tr>\n    <tr>\n      <th>15</th>\n      <td>61</td>\n      <td>ALASKA PHANTOM</td>\n    </tr>\n    <tr>\n      <th>16</th>\n      <td>62</td>\n      <td>ALASKA PHANTOM</td>\n    </tr>\n    <tr>\n      <th>17</th>\n      <td>63</td>\n      <td>ALASKA PHANTOM</td>\n    </tr>\n    <tr>\n      <th>18</th>\n      <td>64</td>\n      <td>ALASKA PHANTOM</td>\n    </tr>\n    <tr>\n      <th>19</th>\n      <td>65</td>\n      <td>ALASKA PHANTOM</td>\n    </tr>\n  </tbody>\n</table>\n</div>"
     },
     "execution_count": 186,
     "metadata": {},
     "output_type": "execute_result"
    }
   ],
   "source": [
    "table3 = table1.merge(table2, on = \"film_id\", how =\"inner\").drop(\"film_id\", axis = 1)\n",
    "# once the merge is d   one on the film_id column, it is not needed and is thus dropped\n",
    "table3.head(20)"
   ],
   "metadata": {
    "collapsed": false,
    "pycharm": {
     "name": "#%%\n"
    }
   }
  },
  {
   "cell_type": "code",
   "execution_count": 187,
   "outputs": [
    {
     "data": {
      "text/plain": "                   Title  Count\n0       ACADEMY DINOSAUR      8\n1          BOUND CHEAPER      8\n2     BUCKET BROTHERHOOD      8\n3    EXPENDABLE STALLION      8\n4             FROST HEAD      8\n..                   ...    ...\n178         PRIVATE DROP      2\n179         PUNK DIVORCE      2\n180        RECORDS ZORRO      2\n181         TEQUILA PAST      2\n182     TREATMENT JEKYLL      2\n\n[183 rows x 2 columns]",
      "text/html": "<div>\n<style scoped>\n    .dataframe tbody tr th:only-of-type {\n        vertical-align: middle;\n    }\n\n    .dataframe tbody tr th {\n        vertical-align: top;\n    }\n\n    .dataframe thead th {\n        text-align: right;\n    }\n</style>\n<table border=\"1\" class=\"dataframe\">\n  <thead>\n    <tr style=\"text-align: right;\">\n      <th></th>\n      <th>Title</th>\n      <th>Count</th>\n    </tr>\n  </thead>\n  <tbody>\n    <tr>\n      <th>0</th>\n      <td>ACADEMY DINOSAUR</td>\n      <td>8</td>\n    </tr>\n    <tr>\n      <th>1</th>\n      <td>BOUND CHEAPER</td>\n      <td>8</td>\n    </tr>\n    <tr>\n      <th>2</th>\n      <td>BUCKET BROTHERHOOD</td>\n      <td>8</td>\n    </tr>\n    <tr>\n      <th>3</th>\n      <td>EXPENDABLE STALLION</td>\n      <td>8</td>\n    </tr>\n    <tr>\n      <th>4</th>\n      <td>FROST HEAD</td>\n      <td>8</td>\n    </tr>\n    <tr>\n      <th>...</th>\n      <td>...</td>\n      <td>...</td>\n    </tr>\n    <tr>\n      <th>178</th>\n      <td>PRIVATE DROP</td>\n      <td>2</td>\n    </tr>\n    <tr>\n      <th>179</th>\n      <td>PUNK DIVORCE</td>\n      <td>2</td>\n    </tr>\n    <tr>\n      <th>180</th>\n      <td>RECORDS ZORRO</td>\n      <td>2</td>\n    </tr>\n    <tr>\n      <th>181</th>\n      <td>TEQUILA PAST</td>\n      <td>2</td>\n    </tr>\n    <tr>\n      <th>182</th>\n      <td>TREATMENT JEKYLL</td>\n      <td>2</td>\n    </tr>\n  </tbody>\n</table>\n<p>183 rows × 2 columns</p>\n</div>"
     },
     "execution_count": 187,
     "metadata": {},
     "output_type": "execute_result"
    }
   ],
   "source": [
    "table3.groupby(\"Title\").count().rename(columns = {\"inventory_id\": \"Count\"}).sort_values(by = [\"Count\", \"Title\"], ascending=[False, True]).reset_index()"
   ],
   "metadata": {
    "collapsed": false,
    "pycharm": {
     "name": "#%%\n"
    }
   }
  },
  {
   "cell_type": "code",
   "execution_count": null,
   "outputs": [],
   "source": [],
   "metadata": {
    "collapsed": false,
    "pycharm": {
     "name": "#%%\n"
    }
   }
  }
 ],
 "metadata": {
  "kernelspec": {
   "display_name": "Python 3",
   "language": "python",
   "name": "python3"
  },
  "language_info": {
   "codemirror_mode": {
    "name": "ipython",
    "version": 2
   },
   "file_extension": ".py",
   "mimetype": "text/x-python",
   "name": "python",
   "nbconvert_exporter": "python",
   "pygments_lexer": "ipython2",
   "version": "2.7.6"
  }
 },
 "nbformat": 4,
 "nbformat_minor": 0
}